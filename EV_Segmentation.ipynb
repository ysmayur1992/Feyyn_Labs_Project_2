{
 "cells": [
  {
   "cell_type": "code",
   "execution_count": 1,
   "id": "9c93939e",
   "metadata": {},
   "outputs": [],
   "source": [
    "# Basic Imports and Required Imports\n",
    "import os\n",
    "import warnings\n",
    "import numpy as np\n",
    "import pandas as pd\n",
    "import matplotlib.pyplot as plt \n",
    "import seaborn as sns\n",
    "from sklearn.cluster import KMeans\n",
    "from sklearn.preprocessing import StandardScaler\n",
    "from sklearn.metrics import adjusted_rand_score\n",
    "from sklearn.decomposition import PCA\n",
    "from statsmodels.graphics.mosaicplot import mosaic\n",
    "from sklearn.mixture import GaussianMixture\n",
    "from sklearn.metrics import confusion_matrix\n",
    "from sklearn.metrics import silhouette_score\n",
    "\n",
    "warnings.filterwarnings(\"ignore\")\n",
    "%matplotlib inline"
   ]
  },
  {
   "cell_type": "markdown",
   "id": "b2081569",
   "metadata": {},
   "source": [
    "# 1) Lets Visualize the Current Availability of the Charging Stations for EVs in India"
   ]
  },
  {
   "cell_type": "code",
   "execution_count": 2,
   "id": "f7245014",
   "metadata": {},
   "outputs": [
    {
     "data": {
      "text/html": [
       "<div>\n",
       "<style scoped>\n",
       "    .dataframe tbody tr th:only-of-type {\n",
       "        vertical-align: middle;\n",
       "    }\n",
       "\n",
       "    .dataframe tbody tr th {\n",
       "        vertical-align: top;\n",
       "    }\n",
       "\n",
       "    .dataframe thead th {\n",
       "        text-align: right;\n",
       "    }\n",
       "</style>\n",
       "<table border=\"1\" class=\"dataframe\">\n",
       "  <thead>\n",
       "    <tr style=\"text-align: right;\">\n",
       "      <th></th>\n",
       "      <th>Sl. no.</th>\n",
       "      <th>State/UT</th>\n",
       "      <th>City</th>\n",
       "      <th>Operational Charging stations Under FAME-II</th>\n",
       "    </tr>\n",
       "  </thead>\n",
       "  <tbody>\n",
       "    <tr>\n",
       "      <th>0</th>\n",
       "      <td>1</td>\n",
       "      <td>Delhi</td>\n",
       "      <td>Delhi</td>\n",
       "      <td>15</td>\n",
       "    </tr>\n",
       "    <tr>\n",
       "      <th>1</th>\n",
       "      <td>2</td>\n",
       "      <td>Maharashtra</td>\n",
       "      <td>Navi Mumbai</td>\n",
       "      <td>1</td>\n",
       "    </tr>\n",
       "    <tr>\n",
       "      <th>2</th>\n",
       "      <td>3</td>\n",
       "      <td>Maharashtra</td>\n",
       "      <td>Nagpur</td>\n",
       "      <td>7</td>\n",
       "    </tr>\n",
       "    <tr>\n",
       "      <th>3</th>\n",
       "      <td>4</td>\n",
       "      <td>Tamil Nadu</td>\n",
       "      <td>Chennai</td>\n",
       "      <td>8</td>\n",
       "    </tr>\n",
       "    <tr>\n",
       "      <th>4</th>\n",
       "      <td>5</td>\n",
       "      <td>Kerala</td>\n",
       "      <td>Thrissur</td>\n",
       "      <td>8</td>\n",
       "    </tr>\n",
       "    <tr>\n",
       "      <th>5</th>\n",
       "      <td>6</td>\n",
       "      <td>Kerala</td>\n",
       "      <td>Ernakulum</td>\n",
       "      <td>6</td>\n",
       "    </tr>\n",
       "    <tr>\n",
       "      <th>6</th>\n",
       "      <td>7</td>\n",
       "      <td>Kerala</td>\n",
       "      <td>Kannur</td>\n",
       "      <td>2</td>\n",
       "    </tr>\n",
       "    <tr>\n",
       "      <th>7</th>\n",
       "      <td>8</td>\n",
       "      <td>Gujarat</td>\n",
       "      <td>Ahmedabad</td>\n",
       "      <td>2</td>\n",
       "    </tr>\n",
       "    <tr>\n",
       "      <th>8</th>\n",
       "      <td>9</td>\n",
       "      <td>Karnataka</td>\n",
       "      <td>Bangalore</td>\n",
       "      <td>1</td>\n",
       "    </tr>\n",
       "    <tr>\n",
       "      <th>9</th>\n",
       "      <td>10</td>\n",
       "      <td>Madhya Pradesh</td>\n",
       "      <td>Indore</td>\n",
       "      <td>2</td>\n",
       "    </tr>\n",
       "    <tr>\n",
       "      <th>10</th>\n",
       "      <td>11</td>\n",
       "      <td>Rajasthan</td>\n",
       "      <td>Jaipur</td>\n",
       "      <td>1</td>\n",
       "    </tr>\n",
       "    <tr>\n",
       "      <th>11</th>\n",
       "      <td>Total</td>\n",
       "      <td>Total</td>\n",
       "      <td>Total</td>\n",
       "      <td>53</td>\n",
       "    </tr>\n",
       "  </tbody>\n",
       "</table>\n",
       "</div>"
      ],
      "text/plain": [
       "   Sl. no.         State/UT         City  \\\n",
       "0         1           Delhi        Delhi   \n",
       "1         2     Maharashtra  Navi Mumbai   \n",
       "2         3     Maharashtra       Nagpur   \n",
       "3         4      Tamil Nadu      Chennai   \n",
       "4         5          Kerala     Thrissur   \n",
       "5         6          Kerala    Ernakulum   \n",
       "6         7          Kerala       Kannur   \n",
       "7         8         Gujarat    Ahmedabad   \n",
       "8         9       Karnataka    Bangalore   \n",
       "9        10  Madhya Pradesh       Indore   \n",
       "10       11       Rajasthan       Jaipur   \n",
       "11    Total           Total        Total   \n",
       "\n",
       "    Operational Charging stations Under FAME-II  \n",
       "0                                            15  \n",
       "1                                             1  \n",
       "2                                             7  \n",
       "3                                             8  \n",
       "4                                             8  \n",
       "5                                             6  \n",
       "6                                             2  \n",
       "7                                             2  \n",
       "8                                             1  \n",
       "9                                             2  \n",
       "10                                            1  \n",
       "11                                           53  "
      ]
     },
     "execution_count": 2,
     "metadata": {},
     "output_type": "execute_result"
    }
   ],
   "source": [
    "state_df = pd.read_csv(\"RS_Session_257_AU_2368_B_3.csv\")\n",
    "state_df.head(20)"
   ]
  },
  {
   "cell_type": "code",
   "execution_count": 3,
   "id": "e950d57e",
   "metadata": {},
   "outputs": [
    {
     "data": {
      "text/html": [
       "<div>\n",
       "<style scoped>\n",
       "    .dataframe tbody tr th:only-of-type {\n",
       "        vertical-align: middle;\n",
       "    }\n",
       "\n",
       "    .dataframe tbody tr th {\n",
       "        vertical-align: top;\n",
       "    }\n",
       "\n",
       "    .dataframe thead th {\n",
       "        text-align: right;\n",
       "    }\n",
       "</style>\n",
       "<table border=\"1\" class=\"dataframe\">\n",
       "  <thead>\n",
       "    <tr style=\"text-align: right;\">\n",
       "      <th></th>\n",
       "      <th>Sl. no.</th>\n",
       "      <th>State/UT</th>\n",
       "      <th>City</th>\n",
       "      <th>Operational Charging stations Under FAME-II</th>\n",
       "    </tr>\n",
       "  </thead>\n",
       "  <tbody>\n",
       "    <tr>\n",
       "      <th>0</th>\n",
       "      <td>1</td>\n",
       "      <td>Delhi</td>\n",
       "      <td>Delhi</td>\n",
       "      <td>15</td>\n",
       "    </tr>\n",
       "    <tr>\n",
       "      <th>1</th>\n",
       "      <td>2</td>\n",
       "      <td>Maharashtra</td>\n",
       "      <td>Navi Mumbai</td>\n",
       "      <td>1</td>\n",
       "    </tr>\n",
       "    <tr>\n",
       "      <th>2</th>\n",
       "      <td>3</td>\n",
       "      <td>Maharashtra</td>\n",
       "      <td>Nagpur</td>\n",
       "      <td>7</td>\n",
       "    </tr>\n",
       "    <tr>\n",
       "      <th>3</th>\n",
       "      <td>4</td>\n",
       "      <td>Tamil Nadu</td>\n",
       "      <td>Chennai</td>\n",
       "      <td>8</td>\n",
       "    </tr>\n",
       "    <tr>\n",
       "      <th>4</th>\n",
       "      <td>5</td>\n",
       "      <td>Kerala</td>\n",
       "      <td>Thrissur</td>\n",
       "      <td>8</td>\n",
       "    </tr>\n",
       "    <tr>\n",
       "      <th>5</th>\n",
       "      <td>6</td>\n",
       "      <td>Kerala</td>\n",
       "      <td>Ernakulum</td>\n",
       "      <td>6</td>\n",
       "    </tr>\n",
       "    <tr>\n",
       "      <th>6</th>\n",
       "      <td>7</td>\n",
       "      <td>Kerala</td>\n",
       "      <td>Kannur</td>\n",
       "      <td>2</td>\n",
       "    </tr>\n",
       "    <tr>\n",
       "      <th>7</th>\n",
       "      <td>8</td>\n",
       "      <td>Gujarat</td>\n",
       "      <td>Ahmedabad</td>\n",
       "      <td>2</td>\n",
       "    </tr>\n",
       "    <tr>\n",
       "      <th>8</th>\n",
       "      <td>9</td>\n",
       "      <td>Karnataka</td>\n",
       "      <td>Bangalore</td>\n",
       "      <td>1</td>\n",
       "    </tr>\n",
       "    <tr>\n",
       "      <th>9</th>\n",
       "      <td>10</td>\n",
       "      <td>Madhya Pradesh</td>\n",
       "      <td>Indore</td>\n",
       "      <td>2</td>\n",
       "    </tr>\n",
       "    <tr>\n",
       "      <th>10</th>\n",
       "      <td>11</td>\n",
       "      <td>Rajasthan</td>\n",
       "      <td>Jaipur</td>\n",
       "      <td>1</td>\n",
       "    </tr>\n",
       "  </tbody>\n",
       "</table>\n",
       "</div>"
      ],
      "text/plain": [
       "   Sl. no.         State/UT         City  \\\n",
       "0         1           Delhi        Delhi   \n",
       "1         2     Maharashtra  Navi Mumbai   \n",
       "2         3     Maharashtra       Nagpur   \n",
       "3         4      Tamil Nadu      Chennai   \n",
       "4         5          Kerala     Thrissur   \n",
       "5         6          Kerala    Ernakulum   \n",
       "6         7          Kerala       Kannur   \n",
       "7         8         Gujarat    Ahmedabad   \n",
       "8         9       Karnataka    Bangalore   \n",
       "9        10  Madhya Pradesh       Indore   \n",
       "10       11       Rajasthan       Jaipur   \n",
       "\n",
       "    Operational Charging stations Under FAME-II  \n",
       "0                                            15  \n",
       "1                                             1  \n",
       "2                                             7  \n",
       "3                                             8  \n",
       "4                                             8  \n",
       "5                                             6  \n",
       "6                                             2  \n",
       "7                                             2  \n",
       "8                                             1  \n",
       "9                                             2  \n",
       "10                                            1  "
      ]
     },
     "execution_count": 3,
     "metadata": {},
     "output_type": "execute_result"
    }
   ],
   "source": [
    "new_state_df = state_df.drop(labels=11,axis=0)\n",
    "new_state_df.head(20)"
   ]
  },
  {
   "cell_type": "code",
   "execution_count": 4,
   "id": "2dba65b5",
   "metadata": {},
   "outputs": [
    {
     "data": {
      "image/png": "[encoded data removed]",
      "text/plain": [
       "<Figure size 1296x432 with 1 Axes>"
      ]
     },
     "metadata": {
      "needs_background": "light"
     },
     "output_type": "display_data"
    }
   ],
   "source": [
    "plt.figure(figsize=(18,6))\n",
    "sns.barplot(x='City',y='Operational Charging stations Under FAME-II',data=new_state_df)\n",
    "plt.show()"
   ]
  },
  {
   "cell_type": "markdown",
   "id": "b5d19f89",
   "metadata": {},
   "source": [
    "# Interim Conclusion for Charging Station Availability with respect to FAME 2 Government of India"
   ]
  },
  {
   "cell_type": "markdown",
   "id": "94751498",
   "metadata": {},
   "source": [
    "### 1) First observation, only limited number of charging station is available in india as of 2023\n",
    "### 2) Delhi being capital has more number of charging station as compared to other metro cities\n",
    "### 3) South Indian metro cities have balanced number, but still many cities are missing from south india\n",
    "### 4) Mumbai being the economic capital of india have only 1 charging station in Navi Mumbai(private charging stations not counted or being missed)\n",
    "\n",
    "## Final Conclusion:\n",
    "### a)In order to make the public comfortable with Electric Vehicle Environmnet, Infrastructure development will play the key role in EV market\n",
    "### b)charging stations are only available in metro cities currently. other small cities and towns should also needed to be included.\n",
    "# ................................................................................................................................."
   ]
  },
  {
   "cell_type": "markdown",
   "id": "7f053075",
   "metadata": {},
   "source": [
    "# 2) Lets Visualise number of operation electric vehicles in the states of India"
   ]
  },
  {
   "cell_type": "code",
   "execution_count": 5,
   "id": "6e3beb73",
   "metadata": {},
   "outputs": [
    {
     "data": {
      "text/html": [
       "<div>\n",
       "<style scoped>\n",
       "    .dataframe tbody tr th:only-of-type {\n",
       "        vertical-align: middle;\n",
       "    }\n",
       "\n",
       "    .dataframe tbody tr th {\n",
       "        vertical-align: top;\n",
       "    }\n",
       "\n",
       "    .dataframe thead th {\n",
       "        text-align: right;\n",
       "    }\n",
       "</style>\n",
       "<table border=\"1\" class=\"dataframe\">\n",
       "  <thead>\n",
       "    <tr style=\"text-align: right;\">\n",
       "      <th></th>\n",
       "      <th>Region</th>\n",
       "      <th>no_of_EV</th>\n",
       "    </tr>\n",
       "  </thead>\n",
       "  <tbody>\n",
       "    <tr>\n",
       "      <th>0</th>\n",
       "      <td>Tamil Nadu</td>\n",
       "      <td>100.0</td>\n",
       "    </tr>\n",
       "    <tr>\n",
       "      <th>1</th>\n",
       "      <td>Karnataka</td>\n",
       "      <td>97.0</td>\n",
       "    </tr>\n",
       "    <tr>\n",
       "      <th>2</th>\n",
       "      <td>Haryana</td>\n",
       "      <td>88.0</td>\n",
       "    </tr>\n",
       "    <tr>\n",
       "      <th>3</th>\n",
       "      <td>Goa</td>\n",
       "      <td>85.0</td>\n",
       "    </tr>\n",
       "    <tr>\n",
       "      <th>4</th>\n",
       "      <td>Maharashtra</td>\n",
       "      <td>85.0</td>\n",
       "    </tr>\n",
       "  </tbody>\n",
       "</table>\n",
       "</div>"
      ],
      "text/plain": [
       "        Region  no_of_EV\n",
       "0   Tamil Nadu     100.0\n",
       "1    Karnataka      97.0\n",
       "2      Haryana      88.0\n",
       "3          Goa      85.0\n",
       "4  Maharashtra      85.0"
      ]
     },
     "execution_count": 5,
     "metadata": {},
     "output_type": "execute_result"
    }
   ],
   "source": [
    "df_EV_numbers = pd.read_csv('geoMap.csv')\n",
    "df_EV_numbers.head()"
   ]
  },
  {
   "cell_type": "code",
   "execution_count": 6,
   "id": "555d82fe",
   "metadata": {},
   "outputs": [
    {
     "data": {
      "text/plain": [
       "Region      0\n",
       "no_of_EV    0\n",
       "dtype: int64"
      ]
     },
     "execution_count": 6,
     "metadata": {},
     "output_type": "execute_result"
    }
   ],
   "source": [
    "# The data was missing so to remove null values, the null values are replaced with zero\n",
    "\n",
    "df_EV_numbers['no_of_EV'].fillna(0,inplace=True)\n",
    "df_EV_numbers.isnull().sum()"
   ]
  },
  {
   "cell_type": "code",
   "execution_count": 7,
   "id": "68b9f2f4",
   "metadata": {},
   "outputs": [
    {
     "data": {
      "image/png": "[encoded data removed]",
      "text/plain": [
       "<Figure size 1296x432 with 1 Axes>"
      ]
     },
     "metadata": {
      "needs_background": "light"
     },
     "output_type": "display_data"
    }
   ],
   "source": [
    "plt.figure(figsize=(18,6))\n",
    "sns.barplot(x='Region',y='no_of_EV',data=df_EV_numbers)\n",
    "plt.xticks(rotation=90)\n",
    "plt.show()"
   ]
  },
  {
   "cell_type": "markdown",
   "id": "39b6f522",
   "metadata": {},
   "source": [
    "# Interim Conclusion on operational electric vehicles in Indian states\n",
    "\n",
    "## 1) South India\n",
    "#### a) Tamil Nadu and Karnataka has highest number of operational electric vehicles both EV bikes and EV cars and the demand is growing\n",
    "#### b) other states like Puducherry, Telangana, Kerala, Andhra pradesh, Tripura has relatively high numbers and growing demands\n",
    "\n",
    "## 2) West India\n",
    "#### a) Goa and Maharashtra has the highest number in operational EVs and relatively good increase in demand\n",
    "#### b) Gujarat and Dardra and Nagar Haveli has a slow start but demands are still rising\n",
    "\n",
    "## 3) North India\n",
    "#### a) Haryana listed as the one of the highest number of operational EVs currently among highest growing demand in entire north india region\n",
    "#### b) Delhi being the capital of india and highest number of charging station available had a slow start and slow demand rise\n",
    "#### c) Other north indian states like Uttarakhand have realtively good number.\n",
    "#### d) Himachal pradesh, Rajasthan, Uttar pradesh, Punjab and Jammu & Kashmir have relatively slow start\n",
    "\n",
    "## 4) East India\n",
    "#### a) Andaman & Nicobar, Odisha and Jharkhand has highest operational EVs in east india region\n",
    "#### b) other states like Bihar and West Bengal have slow start and comparitively less demand\n",
    "\n",
    "## 5) Central India\n",
    "#### a) Chattisgarh have good numbers in operational EVs\n",
    "#### b) Madhya pradesh have a slow start in EV usage and the demand rise is still low\n",
    "\n",
    "## 6) North East India\n",
    "#### a) Being the region of india having less infrastructure in EV charging facility, india's north east proving to be a great shot in EVs\n",
    "#### b) Sikkim is a state who surpassed central india, with relatively greater number of operational EVs\n",
    "#### c) Other states like Meghalaya and Nagaland has a competitive numbers as compared with other states and keeping in mind that north india is still under developed with respect to charging stations\n",
    "#### d) Assam, Mizoram and Manipur have a slow start.\n",
    "\n",
    "## 7) Daman and Diu and Lakshadweep\n",
    "#### a) In this region, the data was missing so to remove null values, the null values are replaced with zero\n",
    "\n",
    "\n",
    "# Final Interim Conclusion:\n",
    "## 1) South India being a Tech Hub is a backbone of EV demands\n",
    "## 2) In earlier part, we analysed that south indian states has good number of charging stations available\n",
    "## 3) Popular car brand's manufacturing plants and main head headquarter's are in south india as well, which plays an important role for ease of survey and fulfil consumer's demands by these top companies\n",
    "## 4) Delhi had highest number of charging stations (analysed earlier), but still EV popularity is relatively low\n",
    "## 5) North east india is gaining popularity in EV despite less infrastructure\n",
    "## 6) Other states and regions specially North, West, East and Central india has a balanced numbers and competitive demands.\n",
    "## 7) We did not get any survey information on Daman and Diu and Lakshadweep, so this 2 regions is not analysed properly"
   ]
  },
  {
   "cell_type": "markdown",
   "id": "52d5bd1b",
   "metadata": {},
   "source": [
    "# 3)"
   ]
  },
  {
   "cell_type": "markdown",
   "id": "07a5b873",
   "metadata": {},
   "source": [
    "# We saw the current scenario charging infrastructure and number of operational Electric Vehicles in different regions in India\n",
    "# Now let's Dive into some analysis of why people like Non Electric vehicles so much\n",
    "# Why and how much is the popularity of fossil fuel vehicles in India"
   ]
  },
  {
   "cell_type": "code",
   "execution_count": 8,
   "id": "47c0ba60",
   "metadata": {},
   "outputs": [
    {
     "data": {
      "text/html": [
       "<div>\n",
       "<style scoped>\n",
       "    .dataframe tbody tr th:only-of-type {\n",
       "        vertical-align: middle;\n",
       "    }\n",
       "\n",
       "    .dataframe tbody tr th {\n",
       "        vertical-align: top;\n",
       "    }\n",
       "\n",
       "    .dataframe thead th {\n",
       "        text-align: right;\n",
       "    }\n",
       "</style>\n",
       "<table border=\"1\" class=\"dataframe\">\n",
       "  <thead>\n",
       "    <tr style=\"text-align: right;\">\n",
       "      <th></th>\n",
       "      <th>Car_Name</th>\n",
       "      <th>Year</th>\n",
       "      <th>Selling_Price</th>\n",
       "      <th>Present_Price</th>\n",
       "      <th>Kms_Driven</th>\n",
       "      <th>Fuel_Type</th>\n",
       "      <th>Seller_Type</th>\n",
       "      <th>Transmission</th>\n",
       "      <th>Owner</th>\n",
       "    </tr>\n",
       "  </thead>\n",
       "  <tbody>\n",
       "    <tr>\n",
       "      <th>0</th>\n",
       "      <td>ritz</td>\n",
       "      <td>2014</td>\n",
       "      <td>3.35</td>\n",
       "      <td>5.59</td>\n",
       "      <td>27000</td>\n",
       "      <td>Petrol</td>\n",
       "      <td>Dealer</td>\n",
       "      <td>Manual</td>\n",
       "      <td>0</td>\n",
       "    </tr>\n",
       "    <tr>\n",
       "      <th>1</th>\n",
       "      <td>sx4</td>\n",
       "      <td>2013</td>\n",
       "      <td>4.75</td>\n",
       "      <td>9.54</td>\n",
       "      <td>43000</td>\n",
       "      <td>Diesel</td>\n",
       "      <td>Dealer</td>\n",
       "      <td>Manual</td>\n",
       "      <td>0</td>\n",
       "    </tr>\n",
       "    <tr>\n",
       "      <th>2</th>\n",
       "      <td>ciaz</td>\n",
       "      <td>2017</td>\n",
       "      <td>7.25</td>\n",
       "      <td>9.85</td>\n",
       "      <td>6900</td>\n",
       "      <td>Petrol</td>\n",
       "      <td>Dealer</td>\n",
       "      <td>Manual</td>\n",
       "      <td>0</td>\n",
       "    </tr>\n",
       "    <tr>\n",
       "      <th>3</th>\n",
       "      <td>wagon r</td>\n",
       "      <td>2011</td>\n",
       "      <td>2.85</td>\n",
       "      <td>4.15</td>\n",
       "      <td>5200</td>\n",
       "      <td>Petrol</td>\n",
       "      <td>Dealer</td>\n",
       "      <td>Manual</td>\n",
       "      <td>0</td>\n",
       "    </tr>\n",
       "    <tr>\n",
       "      <th>4</th>\n",
       "      <td>swift</td>\n",
       "      <td>2014</td>\n",
       "      <td>4.60</td>\n",
       "      <td>6.87</td>\n",
       "      <td>42450</td>\n",
       "      <td>Diesel</td>\n",
       "      <td>Dealer</td>\n",
       "      <td>Manual</td>\n",
       "      <td>0</td>\n",
       "    </tr>\n",
       "    <tr>\n",
       "      <th>5</th>\n",
       "      <td>vitara brezza</td>\n",
       "      <td>2018</td>\n",
       "      <td>9.25</td>\n",
       "      <td>9.83</td>\n",
       "      <td>2071</td>\n",
       "      <td>Diesel</td>\n",
       "      <td>Dealer</td>\n",
       "      <td>Manual</td>\n",
       "      <td>0</td>\n",
       "    </tr>\n",
       "    <tr>\n",
       "      <th>6</th>\n",
       "      <td>ciaz</td>\n",
       "      <td>2015</td>\n",
       "      <td>6.75</td>\n",
       "      <td>8.12</td>\n",
       "      <td>18796</td>\n",
       "      <td>Petrol</td>\n",
       "      <td>Dealer</td>\n",
       "      <td>Manual</td>\n",
       "      <td>0</td>\n",
       "    </tr>\n",
       "    <tr>\n",
       "      <th>7</th>\n",
       "      <td>s cross</td>\n",
       "      <td>2015</td>\n",
       "      <td>6.50</td>\n",
       "      <td>8.61</td>\n",
       "      <td>33429</td>\n",
       "      <td>Diesel</td>\n",
       "      <td>Dealer</td>\n",
       "      <td>Manual</td>\n",
       "      <td>0</td>\n",
       "    </tr>\n",
       "    <tr>\n",
       "      <th>8</th>\n",
       "      <td>ciaz</td>\n",
       "      <td>2016</td>\n",
       "      <td>8.75</td>\n",
       "      <td>8.89</td>\n",
       "      <td>20273</td>\n",
       "      <td>Diesel</td>\n",
       "      <td>Dealer</td>\n",
       "      <td>Manual</td>\n",
       "      <td>0</td>\n",
       "    </tr>\n",
       "    <tr>\n",
       "      <th>9</th>\n",
       "      <td>ciaz</td>\n",
       "      <td>2015</td>\n",
       "      <td>7.45</td>\n",
       "      <td>8.92</td>\n",
       "      <td>42367</td>\n",
       "      <td>Diesel</td>\n",
       "      <td>Dealer</td>\n",
       "      <td>Manual</td>\n",
       "      <td>0</td>\n",
       "    </tr>\n",
       "  </tbody>\n",
       "</table>\n",
       "</div>"
      ],
      "text/plain": [
       "        Car_Name  Year  Selling_Price  Present_Price  Kms_Driven Fuel_Type  \\\n",
       "0           ritz  2014           3.35           5.59       27000    Petrol   \n",
       "1            sx4  2013           4.75           9.54       43000    Diesel   \n",
       "2           ciaz  2017           7.25           9.85        6900    Petrol   \n",
       "3        wagon r  2011           2.85           4.15        5200    Petrol   \n",
       "4          swift  2014           4.60           6.87       42450    Diesel   \n",
       "5  vitara brezza  2018           9.25           9.83        2071    Diesel   \n",
       "6           ciaz  2015           6.75           8.12       18796    Petrol   \n",
       "7        s cross  2015           6.50           8.61       33429    Diesel   \n",
       "8           ciaz  2016           8.75           8.89       20273    Diesel   \n",
       "9           ciaz  2015           7.45           8.92       42367    Diesel   \n",
       "\n",
       "  Seller_Type Transmission  Owner  \n",
       "0      Dealer       Manual      0  \n",
       "1      Dealer       Manual      0  \n",
       "2      Dealer       Manual      0  \n",
       "3      Dealer       Manual      0  \n",
       "4      Dealer       Manual      0  \n",
       "5      Dealer       Manual      0  \n",
       "6      Dealer       Manual      0  \n",
       "7      Dealer       Manual      0  \n",
       "8      Dealer       Manual      0  \n",
       "9      Dealer       Manual      0  "
      ]
     },
     "execution_count": 8,
     "metadata": {},
     "output_type": "execute_result"
    }
   ],
   "source": [
    "df = pd.read_csv('car_data.csv')\n",
    "df.head(10)"
   ]
  },
  {
   "cell_type": "code",
   "execution_count": 9,
   "id": "d75c20c8",
   "metadata": {},
   "outputs": [
    {
     "data": {
      "image/png": "[encoded data removed]",
      "text/plain": [
       "<Figure size 864x576 with 2 Axes>"
      ]
     },
     "metadata": {
      "needs_background": "light"
     },
     "output_type": "display_data"
    }
   ],
   "source": [
    "fig,axes = plt.subplots(1,2,figsize=(12,8))\n",
    "\n",
    "fig.suptitle(\"Relationship of car prices and fuel types and majority people purchase capacity\")\n",
    "\n",
    "axes[0].set_title(\"Car Prices with respect to Fuel\")\n",
    "ax1 = sns.barplot(x = list(df['Fuel_Type']),y = list(df['Present_Price']),data=df,ax=axes[0])\n",
    "ax1.set(xlabel = \"Fuel Types\",ylabel = \"Prices in Lakhs\")\n",
    "\n",
    "dict_df = dict(df['Fuel_Type'].value_counts())\n",
    "plt.subplot(122)\n",
    "plt.pie(list(dict_df.values()),labels=list(dict_df.keys()),autopct='%.0f%%')\n",
    "plt.title(\"Share of the cars with particular Fuel Type\")\n",
    "plt.xlabel(\"Percentage share of cars with particular fuel type\")\n",
    "\n",
    "plt.show()"
   ]
  },
  {
   "cell_type": "markdown",
   "id": "6510c536",
   "metadata": {},
   "source": [
    "# Visualiztion:\n",
    "## 1) Bar Charts:\n",
    "#### a) We can observe clearly, prices of petrol cars are cheaper than CNG cars and Diesel cars.\n",
    "#### b) Diesel cars are one of the most costly cars as petrol cars and CNG cars combined.\n",
    "\n",
    "## 2) Pie Chart:\n",
    "#### a) Petrol cars are the most popular cars occupying 79% of its share in its competition. it is understandable because petrol cars are cheaper than Diesel cars and CNG cars.\n",
    "#### b) Diesel cars, despite being costly, it occupies a noteworthy share of 20% of the popularity\n",
    "#### c) Diesel cars are more popular than CNG, this is because current diesel engines have greater performaces than both petrol engines and CNG engines\n",
    "#### d) Diesel cars are also very much long lasting running cars as compared to both bot the other cars, that's why it has more popularity\n",
    "#### e) CNG cars have lowest popularity, just because this car lacks competitive performance, and engine durability. CNG cars only have good fuel economy, because CNG is cheap.\n",
    "\n",
    "# Observation:\n",
    "## 1) Vehicle Price is a big concern, First Majority of public buying petrol cars because of the its cheap price\n",
    "## 2) Second majority of public buying diesel cars, the public interested for high performance and long lasting low maintenance car.\n",
    "## 3) Very less groups of public is interested in Fuel Economy provided by CNG cars"
   ]
  },
  {
   "cell_type": "code",
   "execution_count": 10,
   "id": "3b8d1de4",
   "metadata": {
    "scrolled": true
   },
   "outputs": [
    {
     "data": {
      "image/png": "[encoded data removed]",
      "text/plain": [
       "<Figure size 864x576 with 2 Axes>"
      ]
     },
     "metadata": {
      "needs_background": "light"
     },
     "output_type": "display_data"
    }
   ],
   "source": [
    "fig,axes = plt.subplots(1,2,figsize=(12,8))\n",
    "\n",
    "fig.suptitle(\"Relationship of car prices and tranasmission types and majority people purchase capacity\")\n",
    "\n",
    "axes[0].set_title(\"Car Prices with respect to transmission\")\n",
    "ax = sns.barplot(x = list(df['Transmission']),y = list(df['Present_Price']),data=df,ax=axes[0])\n",
    "ax.set(xlabel = \"Transmission Types\",ylabel = \"Prices in Lakhs\")\n",
    "\n",
    "\n",
    "dict_df = dict(df['Transmission'].value_counts())\n",
    "plt.subplot(122)\n",
    "plt.pie(list(dict_df.values()),labels=list(dict_df.keys()),autopct='%.0f%%')\n",
    "plt.title(\"Share of the cars with particular transmission Type\")\n",
    "plt.xlabel(\"Percentage share of cars with particular transmission type\")\n",
    "\n",
    "plt.show()"
   ]
  },
  {
   "cell_type": "markdown",
   "id": "34b8ecd8",
   "metadata": {},
   "source": [
    "# Visualiztion:\n",
    "## 1) Bar Charts:\n",
    "#### 1) Price of automatic transmission cars are always higher than the manual transmission cars\n",
    "#### 2) Reason behind this is low maintenance cost of manual transmission cars and new manual transmission cars are cheaper\n",
    "#### 3) Maintainence cost and entire new car cost of automatic transmission cars are high\n",
    "\n",
    "## 2) Pie charts:\n",
    "#### 1) Manual transmission cars are most popular, reason behind this is low maintenance and long durability\n",
    "#### 2) Automatic transmission has a significant growth in popularity in recent times\n",
    "\n",
    "# Observation\n",
    "## 1) Traditionally many cars had a manual transmission, so majority public may have a type of habit to drive manual transmission cars\n",
    "## 2) low price and low maintenance cost is another factor for popularity of manual transmission cars\n",
    "## 3) Currently automatic transmission cars have high price and high maintenance cost due to its complexity of engineering\n",
    "## 4) Even if automatic transmission has high price, still it is popular between public\n",
    "## 5) Therefore, we can conclude that people can buy high priced vehicles if good amount of features and luxury is guaranteed to be delivered\n",
    "## 6) Price economy still a concern over other features"
   ]
  },
  {
   "cell_type": "markdown",
   "id": "fb3986d5",
   "metadata": {},
   "source": [
    "# Interim Conclusion\n",
    "### 1) After this observation, we can come to a point that, the vehicle price, maintenance and durability is a big concern for the people\n",
    "### 2) Low maintenance cost and vehicle durability is one thing to be considered, but vehicle price should be taken care of very seriously"
   ]
  },
  {
   "cell_type": "markdown",
   "id": "d01825da",
   "metadata": {},
   "source": [
    "# ................................................................................................................................."
   ]
  },
  {
   "cell_type": "markdown",
   "id": "eb0b6e8c",
   "metadata": {},
   "source": [
    "# Uptill now we visualized public tendency towards buying a vehicle\n",
    "### 1) we saw people are more leaned towards economical and budget vehicles\n",
    "### 2) we saw the infrastructure for electric vehicles provided by the government\n",
    "### 3) we saw the popularity of electric vehicles in different parts of india\n",
    "\n",
    "# Now lets dive in more deeper and let's find out what makes EVs more perfect choice than fossil fuel vehicles\n",
    "# We will conduct Market Segmentation analysis on public reviews on electric vehicles with machine learning techniques"
   ]
  },
  {
   "cell_type": "markdown",
   "id": "8cf3fe81",
   "metadata": {},
   "source": [
    "# 4) Market Segmentation Analysis on some Popular cars available in the market"
   ]
  },
  {
   "cell_type": "code",
   "execution_count": 11,
   "id": "dc075673",
   "metadata": {
    "scrolled": true
   },
   "outputs": [
    {
     "data": {
      "text/html": [
       "<div>\n",
       "<style scoped>\n",
       "    .dataframe tbody tr th:only-of-type {\n",
       "        vertical-align: middle;\n",
       "    }\n",
       "\n",
       "    .dataframe tbody tr th {\n",
       "        vertical-align: top;\n",
       "    }\n",
       "\n",
       "    .dataframe thead th {\n",
       "        text-align: right;\n",
       "    }\n",
       "</style>\n",
       "<table border=\"1\" class=\"dataframe\">\n",
       "  <thead>\n",
       "    <tr style=\"text-align: right;\">\n",
       "      <th></th>\n",
       "      <th>Sentiments</th>\n",
       "      <th>Reviews</th>\n",
       "      <th>Exterior</th>\n",
       "      <th>Comfort</th>\n",
       "      <th>Performance</th>\n",
       "      <th>Fuel_Economy</th>\n",
       "      <th>Value_for_Money</th>\n",
       "      <th>Condition</th>\n",
       "      <th>Driven</th>\n",
       "      <th>Rating</th>\n",
       "      <th>Model_name</th>\n",
       "    </tr>\n",
       "  </thead>\n",
       "  <tbody>\n",
       "    <tr>\n",
       "      <th>0</th>\n",
       "      <td>Positive</td>\n",
       "      <td>Superb car like as fantastic as petroleum car....</td>\n",
       "      <td>5</td>\n",
       "      <td>4</td>\n",
       "      <td>5</td>\n",
       "      <td>5</td>\n",
       "      <td>5</td>\n",
       "      <td>New</td>\n",
       "      <td>Few hundred kilometers</td>\n",
       "      <td>5</td>\n",
       "      <td>hyundai kona</td>\n",
       "    </tr>\n",
       "    <tr>\n",
       "      <th>1</th>\n",
       "      <td>Negative</td>\n",
       "      <td>Anti national, worst service, worst customer c...</td>\n",
       "      <td>1</td>\n",
       "      <td>1</td>\n",
       "      <td>1</td>\n",
       "      <td>1</td>\n",
       "      <td>1</td>\n",
       "      <td>New</td>\n",
       "      <td>Haven't driven it</td>\n",
       "      <td>0</td>\n",
       "      <td>hyundai kona</td>\n",
       "    </tr>\n",
       "    <tr>\n",
       "      <th>2</th>\n",
       "      <td>Positive</td>\n",
       "      <td>Super happy with it. The car is too good</td>\n",
       "      <td>4</td>\n",
       "      <td>5</td>\n",
       "      <td>5</td>\n",
       "      <td>5</td>\n",
       "      <td>4</td>\n",
       "      <td>New</td>\n",
       "      <td>Few thousand kilometers</td>\n",
       "      <td>5</td>\n",
       "      <td>hyundai kona</td>\n",
       "    </tr>\n",
       "    <tr>\n",
       "      <th>3</th>\n",
       "      <td>Positive</td>\n",
       "      <td>Pretty good car, smooth as a glider fast car, ...</td>\n",
       "      <td>5</td>\n",
       "      <td>5</td>\n",
       "      <td>5</td>\n",
       "      <td>5</td>\n",
       "      <td>5</td>\n",
       "      <td>New</td>\n",
       "      <td>Few thousand kilometers</td>\n",
       "      <td>5</td>\n",
       "      <td>hyundai kona</td>\n",
       "    </tr>\n",
       "    <tr>\n",
       "      <th>4</th>\n",
       "      <td>Nuetral</td>\n",
       "      <td>Price difference between petrol and electronic...</td>\n",
       "      <td>4</td>\n",
       "      <td>4</td>\n",
       "      <td>5</td>\n",
       "      <td>3</td>\n",
       "      <td>2</td>\n",
       "      <td>Not Purchased</td>\n",
       "      <td>Haven't driven it</td>\n",
       "      <td>3</td>\n",
       "      <td>hyundai kona</td>\n",
       "    </tr>\n",
       "  </tbody>\n",
       "</table>\n",
       "</div>"
      ],
      "text/plain": [
       "  Sentiments                                            Reviews  Exterior  \\\n",
       "0   Positive  Superb car like as fantastic as petroleum car....         5   \n",
       "1   Negative  Anti national, worst service, worst customer c...         1   \n",
       "2   Positive           Super happy with it. The car is too good         4   \n",
       "3   Positive  Pretty good car, smooth as a glider fast car, ...         5   \n",
       "4    Nuetral  Price difference between petrol and electronic...         4   \n",
       "\n",
       "   Comfort  Performance  Fuel_Economy  Value_for_Money      Condition  \\\n",
       "0        4            5             5                5            New   \n",
       "1        1            1             1                1            New   \n",
       "2        5            5             5                4            New   \n",
       "3        5            5             5                5            New   \n",
       "4        4            5             3                2  Not Purchased   \n",
       "\n",
       "                    Driven  Rating    Model_name  \n",
       "0   Few hundred kilometers       5  hyundai kona  \n",
       "1        Haven't driven it       0  hyundai kona  \n",
       "2  Few thousand kilometers       5  hyundai kona  \n",
       "3  Few thousand kilometers       5  hyundai kona  \n",
       "4        Haven't driven it       3  hyundai kona  "
      ]
     },
     "execution_count": 11,
     "metadata": {},
     "output_type": "execute_result"
    }
   ],
   "source": [
    "# Step 2) Collecting the data from carwale.com\n",
    "reviews = pd.read_csv('4-wheeler-EV-carwale.csv')\n",
    "reviews.head()"
   ]
  },
  {
   "cell_type": "markdown",
   "id": "3203f895",
   "metadata": {},
   "source": [
    "# Step 3) Exploring the Data"
   ]
  },
  {
   "cell_type": "code",
   "execution_count": 12,
   "id": "6cd2b04e",
   "metadata": {},
   "outputs": [
    {
     "data": {
      "text/html": [
       "<div>\n",
       "<style scoped>\n",
       "    .dataframe tbody tr th:only-of-type {\n",
       "        vertical-align: middle;\n",
       "    }\n",
       "\n",
       "    .dataframe tbody tr th {\n",
       "        vertical-align: top;\n",
       "    }\n",
       "\n",
       "    .dataframe thead th {\n",
       "        text-align: right;\n",
       "    }\n",
       "</style>\n",
       "<table border=\"1\" class=\"dataframe\">\n",
       "  <thead>\n",
       "    <tr style=\"text-align: right;\">\n",
       "      <th></th>\n",
       "      <th>Comfort</th>\n",
       "      <th>Performance</th>\n",
       "      <th>Fuel_Economy</th>\n",
       "      <th>Value_for_Money</th>\n",
       "      <th>Rating</th>\n",
       "    </tr>\n",
       "  </thead>\n",
       "  <tbody>\n",
       "    <tr>\n",
       "      <th>0</th>\n",
       "      <td>4</td>\n",
       "      <td>5</td>\n",
       "      <td>5</td>\n",
       "      <td>5</td>\n",
       "      <td>5</td>\n",
       "    </tr>\n",
       "    <tr>\n",
       "      <th>1</th>\n",
       "      <td>1</td>\n",
       "      <td>1</td>\n",
       "      <td>1</td>\n",
       "      <td>1</td>\n",
       "      <td>0</td>\n",
       "    </tr>\n",
       "    <tr>\n",
       "      <th>2</th>\n",
       "      <td>5</td>\n",
       "      <td>5</td>\n",
       "      <td>5</td>\n",
       "      <td>4</td>\n",
       "      <td>5</td>\n",
       "    </tr>\n",
       "    <tr>\n",
       "      <th>3</th>\n",
       "      <td>5</td>\n",
       "      <td>5</td>\n",
       "      <td>5</td>\n",
       "      <td>5</td>\n",
       "      <td>5</td>\n",
       "    </tr>\n",
       "    <tr>\n",
       "      <th>4</th>\n",
       "      <td>4</td>\n",
       "      <td>5</td>\n",
       "      <td>3</td>\n",
       "      <td>2</td>\n",
       "      <td>3</td>\n",
       "    </tr>\n",
       "  </tbody>\n",
       "</table>\n",
       "</div>"
      ],
      "text/plain": [
       "   Comfort  Performance  Fuel_Economy  Value_for_Money  Rating\n",
       "0        4            5             5                5       5\n",
       "1        1            1             1                1       0\n",
       "2        5            5             5                4       5\n",
       "3        5            5             5                5       5\n",
       "4        4            5             3                2       3"
      ]
     },
     "execution_count": 12,
     "metadata": {},
     "output_type": "execute_result"
    }
   ],
   "source": [
    "df_ratings = reviews[['Comfort','Performance','Fuel_Economy','Value_for_Money','Rating']]\n",
    "\n",
    "df_ratings.head()"
   ]
  },
  {
   "cell_type": "markdown",
   "id": "99ee85ad",
   "metadata": {},
   "source": [
    "# Quick comment\n",
    "##### Exterior Feature of EV is not considered for segmentation as because this feature is completely depend on companies design methodology"
   ]
  },
  {
   "cell_type": "code",
   "execution_count": 13,
   "id": "2b91d584",
   "metadata": {},
   "outputs": [
    {
     "name": "stdout",
     "output_type": "stream",
     "text": [
      "<class 'pandas.core.frame.DataFrame'>\n",
      "RangeIndex: 129 entries, 0 to 128\n",
      "Data columns (total 5 columns):\n",
      " #   Column           Non-Null Count  Dtype\n",
      "---  ------           --------------  -----\n",
      " 0   Comfort          129 non-null    int64\n",
      " 1   Performance      129 non-null    int64\n",
      " 2   Fuel_Economy     129 non-null    int64\n",
      " 3   Value_for_Money  129 non-null    int64\n",
      " 4   Rating           129 non-null    int64\n",
      "dtypes: int64(5)\n",
      "memory usage: 5.2 KB\n"
     ]
    }
   ],
   "source": [
    "df_ratings.info()"
   ]
  },
  {
   "cell_type": "code",
   "execution_count": 14,
   "id": "11ec3b9b",
   "metadata": {},
   "outputs": [
    {
     "data": {
      "text/plain": [
       "Comfort            0.88\n",
       "Performance        0.86\n",
       "Fuel_Economy       0.86\n",
       "Value_for_Money    0.76\n",
       "Rating             0.84\n",
       "dtype: float64"
      ]
     },
     "execution_count": 14,
     "metadata": {},
     "output_type": "execute_result"
    }
   ],
   "source": [
    "rating_feature = ['Comfort','Performance','Fuel_Economy','Value_for_Money','Rating']\n",
    "for feature in rating_feature:\n",
    "    df_ratings[feature] = np.where(df_ratings[feature] > 3,1,0)\n",
    "    \n",
    "df_ratings.mean().round(2)"
   ]
  },
  {
   "cell_type": "markdown",
   "id": "06f113e6",
   "metadata": {},
   "source": [
    "# comments\n",
    "\n",
    "### The average values of the transformed binary numeric segmentation variables indicate that - \n",
    "#### 88% of the reviews are positive on comfort and those people consider present EVs are more comfortable\n",
    "#### 86% of the people considered EV delivering good performance with respect to electric fuel economy of the battery\n",
    "#### whereas 76% of the respondants believe the EVs were a value for money and recommended others to buy it\n",
    "\n",
    "## Overall Rating, we see that 84% of the respondants have positive reviews on current EVs\n"
   ]
  },
  {
   "cell_type": "markdown",
   "id": "43357ee9",
   "metadata": {},
   "source": [
    "# Exterior Feature of EV is not considered for segmentation as because this feature is completely depend on companies design methodology"
   ]
  },
  {
   "cell_type": "markdown",
   "id": "771bbcce",
   "metadata": {},
   "source": [
    "# Step 4) Principle Componants Analysis"
   ]
  },
  {
   "cell_type": "code",
   "execution_count": 15,
   "id": "9bd7d03e",
   "metadata": {},
   "outputs": [],
   "source": [
    "## Scaling the data\n",
    "scaler = StandardScaler()\n",
    "scaler.fit(df_ratings)\n",
    "scaled_data = scaler.transform(df_ratings)"
   ]
  },
  {
   "cell_type": "code",
   "execution_count": 16,
   "id": "8d22088d",
   "metadata": {},
   "outputs": [
    {
     "data": {
      "text/html": [
       "<div>\n",
       "<style scoped>\n",
       "    .dataframe tbody tr th:only-of-type {\n",
       "        vertical-align: middle;\n",
       "    }\n",
       "\n",
       "    .dataframe tbody tr th {\n",
       "        vertical-align: top;\n",
       "    }\n",
       "\n",
       "    .dataframe thead th {\n",
       "        text-align: right;\n",
       "    }\n",
       "</style>\n",
       "<table border=\"1\" class=\"dataframe\">\n",
       "  <thead>\n",
       "    <tr style=\"text-align: right;\">\n",
       "      <th></th>\n",
       "      <th>Comfort</th>\n",
       "      <th>Performance</th>\n",
       "      <th>Fuel_Economy</th>\n",
       "      <th>Value_for_Money</th>\n",
       "      <th>Rating</th>\n",
       "    </tr>\n",
       "  </thead>\n",
       "  <tbody>\n",
       "    <tr>\n",
       "      <th>0</th>\n",
       "      <td>-0.965448</td>\n",
       "      <td>-0.028228</td>\n",
       "      <td>-0.134805</td>\n",
       "      <td>-0.045831</td>\n",
       "      <td>0.050562</td>\n",
       "    </tr>\n",
       "    <tr>\n",
       "      <th>1</th>\n",
       "      <td>5.284841</td>\n",
       "      <td>-0.481989</td>\n",
       "      <td>-0.594537</td>\n",
       "      <td>-0.170641</td>\n",
       "      <td>0.013197</td>\n",
       "    </tr>\n",
       "    <tr>\n",
       "      <th>2</th>\n",
       "      <td>-0.965448</td>\n",
       "      <td>-0.028228</td>\n",
       "      <td>-0.134805</td>\n",
       "      <td>-0.045831</td>\n",
       "      <td>0.050562</td>\n",
       "    </tr>\n",
       "    <tr>\n",
       "      <th>3</th>\n",
       "      <td>-0.965448</td>\n",
       "      <td>-0.028228</td>\n",
       "      <td>-0.134805</td>\n",
       "      <td>-0.045831</td>\n",
       "      <td>0.050562</td>\n",
       "    </tr>\n",
       "    <tr>\n",
       "      <th>4</th>\n",
       "      <td>2.611371</td>\n",
       "      <td>-0.488159</td>\n",
       "      <td>2.181804</td>\n",
       "      <td>-0.090110</td>\n",
       "      <td>1.801597</td>\n",
       "    </tr>\n",
       "    <tr>\n",
       "      <th>...</th>\n",
       "      <td>...</td>\n",
       "      <td>...</td>\n",
       "      <td>...</td>\n",
       "      <td>...</td>\n",
       "      <td>...</td>\n",
       "    </tr>\n",
       "    <tr>\n",
       "      <th>124</th>\n",
       "      <td>0.073301</td>\n",
       "      <td>0.439265</td>\n",
       "      <td>1.425795</td>\n",
       "      <td>0.910254</td>\n",
       "      <td>-0.860756</td>\n",
       "    </tr>\n",
       "    <tr>\n",
       "      <th>125</th>\n",
       "      <td>-0.965448</td>\n",
       "      <td>-0.028228</td>\n",
       "      <td>-0.134805</td>\n",
       "      <td>-0.045831</td>\n",
       "      <td>0.050562</td>\n",
       "    </tr>\n",
       "    <tr>\n",
       "      <th>126</th>\n",
       "      <td>-0.965448</td>\n",
       "      <td>-0.028228</td>\n",
       "      <td>-0.134805</td>\n",
       "      <td>-0.045831</td>\n",
       "      <td>0.050562</td>\n",
       "    </tr>\n",
       "    <tr>\n",
       "      <th>127</th>\n",
       "      <td>-0.965448</td>\n",
       "      <td>-0.028228</td>\n",
       "      <td>-0.134805</td>\n",
       "      <td>-0.045831</td>\n",
       "      <td>0.050562</td>\n",
       "    </tr>\n",
       "    <tr>\n",
       "      <th>128</th>\n",
       "      <td>1.301274</td>\n",
       "      <td>-1.582288</td>\n",
       "      <td>2.310192</td>\n",
       "      <td>-0.388827</td>\n",
       "      <td>-0.346496</td>\n",
       "    </tr>\n",
       "  </tbody>\n",
       "</table>\n",
       "<p>129 rows × 5 columns</p>\n",
       "</div>"
      ],
      "text/plain": [
       "      Comfort  Performance  Fuel_Economy  Value_for_Money    Rating\n",
       "0   -0.965448    -0.028228     -0.134805        -0.045831  0.050562\n",
       "1    5.284841    -0.481989     -0.594537        -0.170641  0.013197\n",
       "2   -0.965448    -0.028228     -0.134805        -0.045831  0.050562\n",
       "3   -0.965448    -0.028228     -0.134805        -0.045831  0.050562\n",
       "4    2.611371    -0.488159      2.181804        -0.090110  1.801597\n",
       "..        ...          ...           ...              ...       ...\n",
       "124  0.073301     0.439265      1.425795         0.910254 -0.860756\n",
       "125 -0.965448    -0.028228     -0.134805        -0.045831  0.050562\n",
       "126 -0.965448    -0.028228     -0.134805        -0.045831  0.050562\n",
       "127 -0.965448    -0.028228     -0.134805        -0.045831  0.050562\n",
       "128  1.301274    -1.582288      2.310192        -0.388827 -0.346496\n",
       "\n",
       "[129 rows x 5 columns]"
      ]
     },
     "execution_count": 16,
     "metadata": {},
     "output_type": "execute_result"
    }
   ],
   "source": [
    "pca = PCA(n_components=5).fit(scaled_data)\n",
    "transformed_df = pca.transform(scaled_data)\n",
    "df_PCA = pd.DataFrame(transformed_df, columns=df_ratings.columns)\n",
    "df_PCA"
   ]
  },
  {
   "cell_type": "markdown",
   "id": "34f7eb49",
   "metadata": {},
   "source": [
    "#### Here, we calculate principal components because we use the resulting components to rotate and project the data for the perceptual map."
   ]
  },
  {
   "cell_type": "code",
   "execution_count": 17,
   "id": "f4ef6225",
   "metadata": {
    "scrolled": true
   },
   "outputs": [
    {
     "data": {
      "image/png": "[encoded data removed]",
      "text/plain": [
       "<Figure size 432x288 with 1 Axes>"
      ]
     },
     "metadata": {
      "needs_background": "light"
     },
     "output_type": "display_data"
    }
   ],
   "source": [
    "plt.plot(np.cumsum(pca.explained_variance_ratio_))\n",
    "plt.xlabel(\"Number of Principal Componants\")\n",
    "plt.ylabel(\"Cumulative explained variance ratio\")\n",
    "plt.show()"
   ]
  },
  {
   "cell_type": "code",
   "execution_count": 18,
   "id": "200a8ea2",
   "metadata": {},
   "outputs": [
    {
     "data": {
      "text/html": [
       "<div>\n",
       "<style scoped>\n",
       "    .dataframe tbody tr th:only-of-type {\n",
       "        vertical-align: middle;\n",
       "    }\n",
       "\n",
       "    .dataframe tbody tr th {\n",
       "        vertical-align: top;\n",
       "    }\n",
       "\n",
       "    .dataframe thead th {\n",
       "        text-align: right;\n",
       "    }\n",
       "</style>\n",
       "<table border=\"1\" class=\"dataframe\">\n",
       "  <thead>\n",
       "    <tr style=\"text-align: right;\">\n",
       "      <th></th>\n",
       "      <th>std</th>\n",
       "      <th>variance</th>\n",
       "      <th>Cumulative_Proportion</th>\n",
       "    </tr>\n",
       "  </thead>\n",
       "  <tbody>\n",
       "    <tr>\n",
       "      <th>Comfort</th>\n",
       "      <td>1.876813</td>\n",
       "      <td>0.699024</td>\n",
       "      <td>0.699024</td>\n",
       "    </tr>\n",
       "    <tr>\n",
       "      <th>Performance</th>\n",
       "      <td>0.722525</td>\n",
       "      <td>0.103599</td>\n",
       "      <td>0.802623</td>\n",
       "    </tr>\n",
       "    <tr>\n",
       "      <th>Fuel_Economy</th>\n",
       "      <td>0.685231</td>\n",
       "      <td>0.093180</td>\n",
       "      <td>0.895803</td>\n",
       "    </tr>\n",
       "    <tr>\n",
       "      <th>Value_for_Money</th>\n",
       "      <td>0.557821</td>\n",
       "      <td>0.061750</td>\n",
       "      <td>0.957554</td>\n",
       "    </tr>\n",
       "    <tr>\n",
       "      <th>Rating</th>\n",
       "      <td>0.462481</td>\n",
       "      <td>0.042446</td>\n",
       "      <td>1.000000</td>\n",
       "    </tr>\n",
       "  </tbody>\n",
       "</table>\n",
       "</div>"
      ],
      "text/plain": [
       "                      std  variance  Cumulative_Proportion\n",
       "Comfort          1.876813  0.699024               0.699024\n",
       "Performance      0.722525  0.103599               0.802623\n",
       "Fuel_Economy     0.685231  0.093180               0.895803\n",
       "Value_for_Money  0.557821  0.061750               0.957554\n",
       "Rating           0.462481  0.042446               1.000000"
      ]
     },
     "execution_count": 18,
     "metadata": {},
     "output_type": "execute_result"
    }
   ],
   "source": [
    "sd_arr = df_PCA.describe().loc['std']\n",
    "pca_frame = pd.DataFrame({'std':sd_arr})\n",
    "sd = pca_frame['std']\n",
    "pca_frame['variance'] = [(std_dev**2)/sum(np.square(sd)) for std_dev in sd]\n",
    "pca_frame['Cumulative_Proportion'] = np.cumsum(pca_frame['variance'])\n",
    "pca_frame.head()"
   ]
  },
  {
   "cell_type": "markdown",
   "id": "fdb28bcd",
   "metadata": {},
   "source": [
    "### comments\n",
    "##### Results from principal components analysis indicate that the three components 'Performance','Fuel Economy' and 'Value for Money' capture about more than 50% of the information contained in the segmentation variables"
   ]
  },
  {
   "cell_type": "code",
   "execution_count": 19,
   "id": "406c58e6",
   "metadata": {},
   "outputs": [
    {
     "data": {
      "text/html": [
       "<div>\n",
       "<style scoped>\n",
       "    .dataframe tbody tr th:only-of-type {\n",
       "        vertical-align: middle;\n",
       "    }\n",
       "\n",
       "    .dataframe tbody tr th {\n",
       "        vertical-align: top;\n",
       "    }\n",
       "\n",
       "    .dataframe thead th {\n",
       "        text-align: right;\n",
       "    }\n",
       "</style>\n",
       "<table border=\"1\" class=\"dataframe\">\n",
       "  <thead>\n",
       "    <tr style=\"text-align: right;\">\n",
       "      <th></th>\n",
       "      <th>Comfort</th>\n",
       "      <th>Performance</th>\n",
       "      <th>Fuel_Economy</th>\n",
       "      <th>Value_for_Money</th>\n",
       "      <th>Rating</th>\n",
       "    </tr>\n",
       "  </thead>\n",
       "  <tbody>\n",
       "    <tr>\n",
       "      <th>0</th>\n",
       "      <td>-0.437</td>\n",
       "      <td>-0.454</td>\n",
       "      <td>-0.425</td>\n",
       "      <td>-0.444</td>\n",
       "      <td>-0.474</td>\n",
       "    </tr>\n",
       "    <tr>\n",
       "      <th>1</th>\n",
       "      <td>0.379</td>\n",
       "      <td>-0.411</td>\n",
       "      <td>0.700</td>\n",
       "      <td>-0.200</td>\n",
       "      <td>-0.396</td>\n",
       "    </tr>\n",
       "    <tr>\n",
       "      <th>2</th>\n",
       "      <td>0.602</td>\n",
       "      <td>0.311</td>\n",
       "      <td>-0.306</td>\n",
       "      <td>-0.667</td>\n",
       "      <td>0.046</td>\n",
       "    </tr>\n",
       "    <tr>\n",
       "      <th>3</th>\n",
       "      <td>-0.520</td>\n",
       "      <td>0.590</td>\n",
       "      <td>0.450</td>\n",
       "      <td>-0.409</td>\n",
       "      <td>-0.108</td>\n",
       "    </tr>\n",
       "    <tr>\n",
       "      <th>4</th>\n",
       "      <td>0.182</td>\n",
       "      <td>0.423</td>\n",
       "      <td>-0.178</td>\n",
       "      <td>0.389</td>\n",
       "      <td>-0.777</td>\n",
       "    </tr>\n",
       "  </tbody>\n",
       "</table>\n",
       "</div>"
      ],
      "text/plain": [
       "   Comfort  Performance  Fuel_Economy  Value_for_Money  Rating\n",
       "0   -0.437       -0.454        -0.425           -0.444  -0.474\n",
       "1    0.379       -0.411         0.700           -0.200  -0.396\n",
       "2    0.602        0.311        -0.306           -0.667   0.046\n",
       "3   -0.520        0.590         0.450           -0.409  -0.108\n",
       "4    0.182        0.423        -0.178            0.389  -0.777"
      ]
     },
     "execution_count": 19,
     "metadata": {},
     "output_type": "execute_result"
    }
   ],
   "source": [
    "pca_df = pd.DataFrame(pca.components_.round(3),columns=df_ratings.columns)\n",
    "pca_df"
   ]
  },
  {
   "cell_type": "code",
   "execution_count": 20,
   "id": "eca01cb6",
   "metadata": {},
   "outputs": [
    {
     "data": {
      "text/html": [
       "<div>\n",
       "<style scoped>\n",
       "    .dataframe tbody tr th:only-of-type {\n",
       "        vertical-align: middle;\n",
       "    }\n",
       "\n",
       "    .dataframe tbody tr th {\n",
       "        vertical-align: top;\n",
       "    }\n",
       "\n",
       "    .dataframe thead th {\n",
       "        text-align: right;\n",
       "    }\n",
       "</style>\n",
       "<table border=\"1\" class=\"dataframe\">\n",
       "  <thead>\n",
       "    <tr style=\"text-align: right;\">\n",
       "      <th></th>\n",
       "      <th>PC1</th>\n",
       "      <th>PC2</th>\n",
       "      <th>PC3</th>\n",
       "      <th>PC4</th>\n",
       "      <th>PC5</th>\n",
       "    </tr>\n",
       "    <tr>\n",
       "      <th></th>\n",
       "      <th></th>\n",
       "      <th></th>\n",
       "      <th></th>\n",
       "      <th></th>\n",
       "      <th></th>\n",
       "    </tr>\n",
       "  </thead>\n",
       "  <tbody>\n",
       "    <tr>\n",
       "      <th>Comfort</th>\n",
       "      <td>-0.437</td>\n",
       "      <td>0.379</td>\n",
       "      <td>0.602</td>\n",
       "      <td>-0.520</td>\n",
       "      <td>0.182</td>\n",
       "    </tr>\n",
       "    <tr>\n",
       "      <th>Performance</th>\n",
       "      <td>-0.454</td>\n",
       "      <td>-0.411</td>\n",
       "      <td>0.311</td>\n",
       "      <td>0.590</td>\n",
       "      <td>0.423</td>\n",
       "    </tr>\n",
       "    <tr>\n",
       "      <th>Fuel_Economy</th>\n",
       "      <td>-0.425</td>\n",
       "      <td>0.700</td>\n",
       "      <td>-0.306</td>\n",
       "      <td>0.450</td>\n",
       "      <td>-0.178</td>\n",
       "    </tr>\n",
       "    <tr>\n",
       "      <th>Value_for_Money</th>\n",
       "      <td>-0.444</td>\n",
       "      <td>-0.200</td>\n",
       "      <td>-0.667</td>\n",
       "      <td>-0.409</td>\n",
       "      <td>0.389</td>\n",
       "    </tr>\n",
       "    <tr>\n",
       "      <th>Rating</th>\n",
       "      <td>-0.474</td>\n",
       "      <td>-0.396</td>\n",
       "      <td>0.046</td>\n",
       "      <td>-0.108</td>\n",
       "      <td>-0.777</td>\n",
       "    </tr>\n",
       "  </tbody>\n",
       "</table>\n",
       "</div>"
      ],
      "text/plain": [
       "                   PC1    PC2    PC3    PC4    PC5\n",
       "                                                  \n",
       "Comfort         -0.437  0.379  0.602 -0.520  0.182\n",
       "Performance     -0.454 -0.411  0.311  0.590  0.423\n",
       "Fuel_Economy    -0.425  0.700 -0.306  0.450 -0.178\n",
       "Value_for_Money -0.444 -0.200 -0.667 -0.409  0.389\n",
       "Rating          -0.474 -0.396  0.046 -0.108 -0.777"
      ]
     },
     "execution_count": 20,
     "metadata": {},
     "output_type": "execute_result"
    }
   ],
   "source": [
    "X = []\n",
    "for feature in pca_df.columns:\n",
    "    X.append(np.array(pca_df[feature]).reshape(1,-1))\n",
    "    \n",
    "col = list(pca_df.columns)\n",
    "df_PC = pd.DataFrame()\n",
    "\n",
    "for j in range(0,5):\n",
    "    df_PC = df_PC.append(pd.DataFrame(X[j],columns=['PC{}'.format(i) for i in range(1,6)]),ignore_index=True)\n",
    "    \n",
    "df_PC[''] = pd.Series(col)\n",
    "df_PC.set_index(keys='',inplace=True)\n",
    "df_PC"
   ]
  },
  {
   "cell_type": "code",
   "execution_count": 21,
   "id": "87b9f585",
   "metadata": {},
   "outputs": [
    {
     "data": {
      "image/png": "[encoded data removed]",
      "text/plain": [
       "<Figure size 576x396 with 1 Axes>"
      ]
     },
     "metadata": {},
     "output_type": "display_data"
    },
    {
     "data": {
      "text/plain": [
       "<AxesSubplot:title={'center':'Principal Component Plot'}, xlabel='$PC_1$', ylabel='$PC_2$'>"
      ]
     },
     "execution_count": 21,
     "metadata": {},
     "output_type": "execute_result"
    }
   ],
   "source": [
    "from yellowbrick.features.pca import PCADecomposition\n",
    "from sklearn.preprocessing import LabelEncoder\n",
    "le = LabelEncoder()\n",
    "col = le.fit_transform(reviews['Sentiments'])\n",
    "df_PCA['sentiments'] = col\n",
    "X = df_PCA.drop(columns = 'sentiments')\n",
    "y = df_PCA['sentiments']\n",
    "visualizer = PCADecomposition(scale=True, proj_features = True, color = None)\n",
    "visualizer.fit_transform(X, y)\n",
    "visualizer.show()"
   ]
  },
  {
   "cell_type": "markdown",
   "id": "c45fbbb0",
   "metadata": {},
   "source": [
    "## Visual Plot\n",
    "### PC1 and PC2 are the 2 componants captured highest of information contained in segmentation variables \n",
    "### The above Principal Component Plot shows clearly:\n",
    "##### 1) According to first principal Componant(PC1) we assess the fact that value for money, the performance and the Fuel economy feature of the EV has similar percentage and closest positive ratings\n",
    "##### 2) Overall rating is at attrative coordinate according to both the principal componants (PC1 and PC2)"
   ]
  },
  {
   "cell_type": "markdown",
   "id": "6e98a34d",
   "metadata": {},
   "source": [
    "# Step 5) Extracting Segments"
   ]
  },
  {
   "cell_type": "code",
   "execution_count": 22,
   "id": "3e624c72",
   "metadata": {},
   "outputs": [
    {
     "data": {
      "text/plain": [
       "Text(0, 0.5, 'Sum of Within Cluster Distances')"
      ]
     },
     "execution_count": 22,
     "metadata": {},
     "output_type": "execute_result"
    },
    {
     "data": {
      "image/png": "[encoded data removed]",
      "text/plain": [
       "<Figure size 864x576 with 1 Axes>"
      ]
     },
     "metadata": {},
     "output_type": "display_data"
    }
   ],
   "source": [
    "# K-Means Clustering\n",
    "k_range = range(2, 6)\n",
    "inertias = []\n",
    "k_result = []\n",
    "for k in k_range:\n",
    "    model = KMeans(n_clusters=k, n_init=7, random_state=0)\n",
    "    model.fit(df_ratings)\n",
    "    labels = model.predict(df_ratings)\n",
    "    inertias.append(model.inertia_)\n",
    "    k_result.append(labels)\n",
    "    \n",
    "plt.figure(figsize=(12,8))\n",
    "plt.bar(range(2, 6), inertias)\n",
    "plt.xlabel('Number of segments')\n",
    "plt.ylabel('Sum of Within Cluster Distances')"
   ]
  },
  {
   "cell_type": "markdown",
   "id": "c113a5a5",
   "metadata": {},
   "source": [
    "### comments\n",
    "##### 1) Extract between two and six segments because we do not know in advance what the best number of market segments is.\n",
    "##### 2) The values to decrease because more market segments automatically mean that the segments are smaller and, as a consequence, that segment members are more similar to one another."
   ]
  },
  {
   "cell_type": "code",
   "execution_count": 23,
   "id": "90b873b6",
   "metadata": {},
   "outputs": [
    {
     "data": {
      "image/png": "[encoded data removed]",
      "text/plain": [
       "<Figure size 864x576 with 1 Axes>"
      ]
     },
     "metadata": {},
     "output_type": "display_data"
    }
   ],
   "source": [
    "n_boot = 100*2\n",
    "plt.figure(figsize = (12,8))\n",
    "ari_scores = []\n",
    "for labels in k_result:\n",
    "    ari_lis = []\n",
    "    for _ in range(n_boot):\n",
    "        random_sample = np.random.choice(labels, size=len(labels), replace=True)\n",
    "        ARI = adjusted_rand_score(labels, random_sample)\n",
    "        ari_lis.append(ARI)\n",
    "    ari_scores.append(ari_lis)\n",
    "\n",
    "plt.boxplot(ari_scores, labels=range(2, 6))\n",
    "plt.xlabel('Number of segments')\n",
    "plt.ylabel('Adjusted Rand index')\n",
    "plt.title('Adjusted Rand Index Distribution')\n",
    "plt.show()\n"
   ]
  },
  {
   "cell_type": "markdown",
   "id": "df46e6d0",
   "metadata": {},
   "source": [
    "### Comments\n",
    "#### According to the boxplot, we can assess that the 4 segment and 5 segment solution will be the most stable and, with most of the captured information present.\n",
    "#### while on the other hand, the other clusters have comparably less information"
   ]
  },
  {
   "cell_type": "code",
   "execution_count": 24,
   "id": "aee15600",
   "metadata": {},
   "outputs": [
    {
     "data": {
      "text/plain": [
       "array([0, 1, 0, 0, 2, 0, 0, 0, 0, 0, 0, 0, 0, 0, 0, 0, 3, 3, 0, 0, 1, 0,\n",
       "       0, 0, 1, 0, 0, 0, 0, 2, 1, 3, 0, 0, 0, 0, 0, 0, 0, 0, 0, 0, 0, 0,\n",
       "       0, 1, 0, 0, 0, 0, 0, 0, 0, 0, 0, 0, 0, 0, 3, 0, 0, 0, 1, 0, 0, 2,\n",
       "       1, 0, 0, 0, 0, 0, 0, 0, 0, 3, 2, 1, 2, 0, 0, 0, 0, 0, 3, 0, 0, 0,\n",
       "       0, 0, 3, 0, 0, 0, 0, 0, 3, 2, 0, 0, 0, 3, 0, 3, 0, 0, 0, 0, 0, 0,\n",
       "       1, 0, 1, 0, 1, 0, 0, 0, 0, 1, 0, 0, 2, 0, 3, 0, 0, 0, 3])"
      ]
     },
     "execution_count": 24,
     "metadata": {},
     "output_type": "execute_result"
    }
   ],
   "source": [
    "#creating segment\n",
    "model = KMeans(n_clusters=4, n_init=10, random_state=0)\n",
    "model.fit(df_ratings)\n",
    "label4 = model.predict(df_ratings)\n",
    "label4"
   ]
  },
  {
   "cell_type": "code",
   "execution_count": 25,
   "id": "2dd5caa9",
   "metadata": {},
   "outputs": [
    {
     "data": {
      "text/html": [
       "<div>\n",
       "<style scoped>\n",
       "    .dataframe tbody tr th:only-of-type {\n",
       "        vertical-align: middle;\n",
       "    }\n",
       "\n",
       "    .dataframe tbody tr th {\n",
       "        vertical-align: top;\n",
       "    }\n",
       "\n",
       "    .dataframe thead th {\n",
       "        text-align: right;\n",
       "    }\n",
       "</style>\n",
       "<table border=\"1\" class=\"dataframe\">\n",
       "  <thead>\n",
       "    <tr style=\"text-align: right;\">\n",
       "      <th></th>\n",
       "      <th>k</th>\n",
       "      <th>LogLike</th>\n",
       "      <th>AIC</th>\n",
       "      <th>BIC</th>\n",
       "    </tr>\n",
       "  </thead>\n",
       "  <tbody>\n",
       "    <tr>\n",
       "      <th>0</th>\n",
       "      <td>2</td>\n",
       "      <td>6.819348</td>\n",
       "      <td>-1677.391892</td>\n",
       "      <td>-1560.139584</td>\n",
       "    </tr>\n",
       "    <tr>\n",
       "      <th>1</th>\n",
       "      <td>3</td>\n",
       "      <td>8.352548</td>\n",
       "      <td>-2030.957342</td>\n",
       "      <td>-1853.648973</td>\n",
       "    </tr>\n",
       "    <tr>\n",
       "      <th>2</th>\n",
       "      <td>4</td>\n",
       "      <td>12.846137</td>\n",
       "      <td>-3148.303357</td>\n",
       "      <td>-2910.938928</td>\n",
       "    </tr>\n",
       "    <tr>\n",
       "      <th>3</th>\n",
       "      <td>5</td>\n",
       "      <td>13.935205</td>\n",
       "      <td>-3387.282885</td>\n",
       "      <td>-3089.862395</td>\n",
       "    </tr>\n",
       "  </tbody>\n",
       "</table>\n",
       "</div>"
      ],
      "text/plain": [
       "   k    LogLike          AIC          BIC\n",
       "0  2   6.819348 -1677.391892 -1560.139584\n",
       "1  3   8.352548 -2030.957342 -1853.648973\n",
       "2  4  12.846137 -3148.303357 -2910.938928\n",
       "3  5  13.935205 -3387.282885 -3089.862395"
      ]
     },
     "execution_count": 25,
     "metadata": {},
     "output_type": "execute_result"
    }
   ],
   "source": [
    "# using mixture of distribution\n",
    "score,aic,bic = [],[],[]\n",
    "\n",
    "models = []\n",
    "for k in range(2, 6):\n",
    "    model = GaussianMixture(n_components=k, n_init=10,random_state=10)\n",
    "    model.fit(df_ratings)\n",
    "    models.append(model)\n",
    "    score.append(model.score(df_ratings))\n",
    "    aic.append(model.aic(df_ratings))\n",
    "    bic.append(model.bic(df_ratings))\n",
    "\n",
    "table = pd.DataFrame({\n",
    "    'k': k_range,\n",
    "    'LogLike': score,\n",
    "    'AIC': aic,\n",
    "    'BIC': bic\n",
    "})\n",
    "\n",
    "\n",
    "table"
   ]
  },
  {
   "cell_type": "code",
   "execution_count": 26,
   "id": "e4eb9d64",
   "metadata": {},
   "outputs": [
    {
     "data": {
      "image/png": "[encoded data removed]",
      "text/plain": [
       "<Figure size 864x576 with 1 Axes>"
      ]
     },
     "metadata": {},
     "output_type": "display_data"
    }
   ],
   "source": [
    "plt.figure(figsize=(12, 8))\n",
    "plt.plot(k_range, aic, label='AIC',color='r')\n",
    "plt.plot(k_range, bic, label='BIC',color='y')\n",
    "plt.xlabel('Number of Clusters')\n",
    "plt.ylabel('Score')\n",
    "plt.title('AIC and BIC Scores for Gaussian Mixture Model')\n",
    "plt.legend()\n",
    "plt.show()"
   ]
  },
  {
   "cell_type": "markdown",
   "id": "ffabc050",
   "metadata": {},
   "source": [
    "### Comments\n",
    "##### From the plot above, we can clearly see that the 4  and 5 market segment solution have some stability here 4 market segment solution makes some stabilty and the curves flatten for a while"
   ]
  },
  {
   "cell_type": "code",
   "execution_count": 27,
   "id": "e0ba6f1a",
   "metadata": {},
   "outputs": [
    {
     "name": "stdout",
     "output_type": "stream",
     "text": [
      "Confusion Matrix: \n",
      " [[96  0  0  2  0]\n",
      " [ 0  1 11  0  0]\n",
      " [ 0  6  0  1  0]\n",
      " [ 0  0  0  4  8]\n",
      " [ 0  0  0  0  0]]\n"
     ]
    }
   ],
   "source": [
    "from sklearn.mixture import GaussianMixture\n",
    "from sklearn.metrics import confusion_matrix\n",
    "\n",
    "g_mixture = GaussianMixture(n_components=5, n_init=10, random_state=0)\n",
    "g_mixture.fit(df_ratings)\n",
    "\n",
    "cluster_of_g_mixture = g_mixture.predict(df_ratings)\n",
    "\n",
    "KMC = KMeans(n_clusters=4,n_init=10,random_state=0)\n",
    "KMC.fit(df_ratings)\n",
    "labels = KMC.predict(df_ratings)\n",
    "\n",
    "confusion_matrix = confusion_matrix(labels, cluster_of_g_mixture)\n",
    "\n",
    "print(\"Confusion Matrix: \\n\",confusion_matrix)"
   ]
  },
  {
   "cell_type": "markdown",
   "id": "81b1abd1",
   "metadata": {},
   "source": [
    "### Component (segment) members derived from the mixture model are shown in columns and, cluster (segment) members derived from k-means are shown in rows."
   ]
  },
  {
   "cell_type": "markdown",
   "id": "5ce5cdb7",
   "metadata": {},
   "source": [
    "# Step 6) Profiling Segments"
   ]
  },
  {
   "cell_type": "code",
   "execution_count": 28,
   "id": "22308a28",
   "metadata": {},
   "outputs": [
    {
     "data": {
      "image/png": "[encoded data removed]",
      "text/plain": [
       "<Figure size 864x720 with 4 Axes>"
      ]
     },
     "metadata": {},
     "output_type": "display_data"
    }
   ],
   "source": [
    "df_copy = df_ratings.copy()\n",
    "df_copy['segments'] = label4\n",
    "\n",
    "cluster_dict = {\n",
    "    'Columns': df_ratings.columns,\n",
    "    'Cluster1': np.array(np.zeros(6)),\n",
    "    'Cluster2': np.array(np.zeros(6)),\n",
    "    'Cluster3': np.array(np.zeros(6)),\n",
    "    'Cluster4': np.array(np.zeros(6))\n",
    "}\n",
    "\n",
    "\n",
    "segment_counts = df_copy[\"segments\"].value_counts().sort_index()\n",
    "for i, value in enumerate(segment_counts):\n",
    "    temp = df_copy[df_copy['segments'] == i].drop(columns=\"segments\")\n",
    "    temp = temp.sum()/value\n",
    "    cluster_dict[\"Cluster{}\".format(i+1)] = temp.values\n",
    "\n",
    "profile_plot_data= pd.DataFrame(cluster_dict)\n",
    "\n",
    "cluster_list = ['Cluster1', 'Cluster2', 'Cluster3', 'Cluster4']\n",
    "\n",
    "plt.figure(figsize=(12, 10))\n",
    "for idx, cluster in enumerate(cluster_list,1):\n",
    "    k_range = [0,1,2,3,4]\n",
    "    if idx==1: \n",
    "        color=\"pink\"\n",
    "    elif idx==2:\n",
    "        color=\"yellow\"\n",
    "    elif idx==3:\n",
    "        color=\"lightgreen\"\n",
    "    else:\n",
    "        color=\"lightblue\"\n",
    "    plt.subplot(2, 2, idx)\n",
    "    bars = plt.barh(profile_plot_data['Columns'], profile_plot_data[cluster],edgecolor='black',facecolor='none')\n",
    "    for i in k_range:\n",
    "        bars[i].set_color(color)\n",
    "    plt.grid(False)\n",
    "    plt.xlabel('Attributes')\n",
    "    plt.ylabel('Counts')\n",
    "    plt.title(cluster)\n",
    "    \n",
    "\n",
    "plt.tight_layout()\n",
    "\n",
    "plt.show()"
   ]
  },
  {
   "cell_type": "markdown",
   "id": "2053ea65",
   "metadata": {},
   "source": [
    "#### 1) The barplot plots the percentage of respondents within each segment who associate each perception for EV.\n",
    "#### 2) Marker variables are coloured differently for each segment. \n",
    "#### 3) All other variables are whited out"
   ]
  },
  {
   "cell_type": "markdown",
   "id": "0b30f1fe",
   "metadata": {},
   "source": [
    "# Step 7) Describing Segments"
   ]
  },
  {
   "cell_type": "code",
   "execution_count": 29,
   "id": "96512e47",
   "metadata": {},
   "outputs": [
    {
     "data": {
      "text/html": [
       "<div>\n",
       "<style scoped>\n",
       "    .dataframe tbody tr th:only-of-type {\n",
       "        vertical-align: middle;\n",
       "    }\n",
       "\n",
       "    .dataframe tbody tr th {\n",
       "        vertical-align: top;\n",
       "    }\n",
       "\n",
       "    .dataframe thead th {\n",
       "        text-align: right;\n",
       "    }\n",
       "</style>\n",
       "<table border=\"1\" class=\"dataframe\">\n",
       "  <thead>\n",
       "    <tr style=\"text-align: right;\">\n",
       "      <th></th>\n",
       "      <th>Sentiments</th>\n",
       "      <th>Reviews</th>\n",
       "      <th>Exterior</th>\n",
       "      <th>Comfort</th>\n",
       "      <th>Performance</th>\n",
       "      <th>Fuel_Economy</th>\n",
       "      <th>Value_for_Money</th>\n",
       "      <th>Condition</th>\n",
       "      <th>Driven</th>\n",
       "      <th>Rating</th>\n",
       "      <th>Model_name</th>\n",
       "    </tr>\n",
       "  </thead>\n",
       "  <tbody>\n",
       "    <tr>\n",
       "      <th>0</th>\n",
       "      <td>Positive</td>\n",
       "      <td>Superb car like as fantastic as petroleum car....</td>\n",
       "      <td>5</td>\n",
       "      <td>4</td>\n",
       "      <td>5</td>\n",
       "      <td>5</td>\n",
       "      <td>5</td>\n",
       "      <td>New</td>\n",
       "      <td>Few hundred kilometers</td>\n",
       "      <td>5</td>\n",
       "      <td>hyundai kona</td>\n",
       "    </tr>\n",
       "    <tr>\n",
       "      <th>1</th>\n",
       "      <td>Negative</td>\n",
       "      <td>Anti national, worst service, worst customer c...</td>\n",
       "      <td>1</td>\n",
       "      <td>1</td>\n",
       "      <td>1</td>\n",
       "      <td>1</td>\n",
       "      <td>1</td>\n",
       "      <td>New</td>\n",
       "      <td>Haven't driven it</td>\n",
       "      <td>0</td>\n",
       "      <td>hyundai kona</td>\n",
       "    </tr>\n",
       "    <tr>\n",
       "      <th>2</th>\n",
       "      <td>Positive</td>\n",
       "      <td>Super happy with it. The car is too good</td>\n",
       "      <td>4</td>\n",
       "      <td>5</td>\n",
       "      <td>5</td>\n",
       "      <td>5</td>\n",
       "      <td>4</td>\n",
       "      <td>New</td>\n",
       "      <td>Few thousand kilometers</td>\n",
       "      <td>5</td>\n",
       "      <td>hyundai kona</td>\n",
       "    </tr>\n",
       "    <tr>\n",
       "      <th>3</th>\n",
       "      <td>Positive</td>\n",
       "      <td>Pretty good car, smooth as a glider fast car, ...</td>\n",
       "      <td>5</td>\n",
       "      <td>5</td>\n",
       "      <td>5</td>\n",
       "      <td>5</td>\n",
       "      <td>5</td>\n",
       "      <td>New</td>\n",
       "      <td>Few thousand kilometers</td>\n",
       "      <td>5</td>\n",
       "      <td>hyundai kona</td>\n",
       "    </tr>\n",
       "    <tr>\n",
       "      <th>4</th>\n",
       "      <td>Nuetral</td>\n",
       "      <td>Price difference between petrol and electronic...</td>\n",
       "      <td>4</td>\n",
       "      <td>4</td>\n",
       "      <td>5</td>\n",
       "      <td>3</td>\n",
       "      <td>2</td>\n",
       "      <td>Not Purchased</td>\n",
       "      <td>Haven't driven it</td>\n",
       "      <td>3</td>\n",
       "      <td>hyundai kona</td>\n",
       "    </tr>\n",
       "  </tbody>\n",
       "</table>\n",
       "</div>"
      ],
      "text/plain": [
       "  Sentiments                                            Reviews  Exterior  \\\n",
       "0   Positive  Superb car like as fantastic as petroleum car....         5   \n",
       "1   Negative  Anti national, worst service, worst customer c...         1   \n",
       "2   Positive           Super happy with it. The car is too good         4   \n",
       "3   Positive  Pretty good car, smooth as a glider fast car, ...         5   \n",
       "4    Nuetral  Price difference between petrol and electronic...         4   \n",
       "\n",
       "   Comfort  Performance  Fuel_Economy  Value_for_Money      Condition  \\\n",
       "0        4            5             5                5            New   \n",
       "1        1            1             1                1            New   \n",
       "2        5            5             5                4            New   \n",
       "3        5            5             5                5            New   \n",
       "4        4            5             3                2  Not Purchased   \n",
       "\n",
       "                    Driven  Rating    Model_name  \n",
       "0   Few hundred kilometers       5  hyundai kona  \n",
       "1        Haven't driven it       0  hyundai kona  \n",
       "2  Few thousand kilometers       5  hyundai kona  \n",
       "3  Few thousand kilometers       5  hyundai kona  \n",
       "4        Haven't driven it       3  hyundai kona  "
      ]
     },
     "execution_count": 29,
     "metadata": {},
     "output_type": "execute_result"
    }
   ],
   "source": [
    "# Describing Segments\n",
    "\n",
    "reviews.head()"
   ]
  },
  {
   "cell_type": "code",
   "execution_count": 30,
   "id": "3ca2b6a3",
   "metadata": {},
   "outputs": [
    {
     "data": {
      "text/plain": [
       "<Figure size 864x576 with 0 Axes>"
      ]
     },
     "metadata": {},
     "output_type": "display_data"
    },
    {
     "data": {
      "image/png": "[encoded data removed]",
      "text/plain": [
       "<Figure size 576x396 with 3 Axes>"
      ]
     },
     "metadata": {},
     "output_type": "display_data"
    }
   ],
   "source": [
    "# Let's visualize which we cannot able see in above segment analysis\n",
    "\n",
    "temp_col = reviews['Sentiments'].replace({\n",
    "    \"Positive\":1,\n",
    "    \"Nuetral\":0,\n",
    "    \"Negative\":-1\n",
    "})\n",
    "\n",
    "frame = pd.DataFrame({\n",
    "    'segment': label4,\n",
    "    'sentiments': temp_col\n",
    "})\n",
    "\n",
    "cross_tab = pd.crosstab(frame['segment'], frame['sentiments'])\n",
    "\n",
    "plt.figure(figsize=(12, 8))\n",
    "mosaic_data = cross_tab.stack()\n",
    "mosaic(mosaic_data, axes_label=True, gap=0.05, labelizer=lambda k:\"\")\n",
    "\n",
    "plt.xlabel('segment number')\n",
    "plt.ylabel('Sentiments',rotation=90)\n",
    "plt.title(\"X - Segment Number and Y - Sentiments\")\n",
    "plt.show()"
   ]
  },
  {
   "cell_type": "markdown",
   "id": "701a1332",
   "metadata": {},
   "source": [
    "### Mosaic plot remarks\n",
    "#### 1) Members of segment 1 (depicted in the first column) expresses most positive responses of EVs the top left boxes being coloured in red. \n",
    "#### 2) In stark contrast, members of segment 2 expresses Negative Thoughts (as indicated by the pale green bar boxes).\n",
    "#### 3) segment 3 provides info about people expressing balanced responses (as indicated by dark green color)\n",
    "#### 4) segment 4 have majority of positive responses (as indicated by dark blue color)"
   ]
  },
  {
   "cell_type": "code",
   "execution_count": 31,
   "id": "6145e882",
   "metadata": {},
   "outputs": [
    {
     "data": {
      "text/plain": [
       "segment\n",
       "0    1.734694\n",
       "1    1.250000\n",
       "2    1.142857\n",
       "3    1.333333\n",
       "Name: Driven_num, dtype: float64"
      ]
     },
     "execution_count": 31,
     "metadata": {},
     "output_type": "execute_result"
    }
   ],
   "source": [
    "le = LabelEncoder()\n",
    "\n",
    "frame = pd.DataFrame({\n",
    "    'segment': label4,\n",
    "    'sentiments': temp_col,\n",
    "    'Driven': reviews['Driven'],\n",
    "    'Model': reviews['Model_name']\n",
    "})\n",
    "\n",
    "driven = {\n",
    "    'Few hundred kilometers':2, \"Haven't driven it\":0,\n",
    "       'Few thousand kilometers':3, 'Did a short drive once':1,\n",
    "       'Its my mate since ages':4\n",
    "}\n",
    "\n",
    "frame['Driven_num'] = frame['Driven'].map(driven)\n",
    "frame[\"Model_num\"] = le.fit_transform(reviews['Model_name'])+1\n",
    "\n",
    "driven = frame.groupby('segment')['Driven_num'].mean()\n",
    "sentiments = frame.groupby('segment')['sentiments'].mean()\n",
    "model = frame.groupby('segment')[\"Model_num\"].mean()\n",
    "\n",
    "driven"
   ]
  },
  {
   "cell_type": "code",
   "execution_count": 32,
   "id": "9bc816bc",
   "metadata": {},
   "outputs": [
    {
     "data": {
      "text/plain": [
       "segment\n",
       "0    0.938776\n",
       "1   -0.833333\n",
       "2    0.285714\n",
       "3    0.583333\n",
       "Name: sentiments, dtype: float64"
      ]
     },
     "execution_count": 32,
     "metadata": {},
     "output_type": "execute_result"
    }
   ],
   "source": [
    "sentiments # 1 Negative sentiment and 3 positive sentiments can be observed from the 4 segments"
   ]
  },
  {
   "cell_type": "code",
   "execution_count": 33,
   "id": "f9ac7d01",
   "metadata": {},
   "outputs": [
    {
     "data": {
      "image/png": "[encoded data removed]",
      "text/plain": [
       "<Figure size 864x576 with 1 Axes>"
      ]
     },
     "metadata": {},
     "output_type": "display_data"
    }
   ],
   "source": [
    "plt.figure(figsize=(12, 8))\n",
    "plt.scatter(driven, sentiments, s=driven*800,color='white',edgecolor=\"black\")\n",
    "\n",
    "for i, segment in enumerate(driven.index):\n",
    "    plt.text(driven[segment], sentiments[segment], str(i+1))\n",
    "\n",
    "plt.xlim(0, 4.5)\n",
    "plt.ylim(-3, 3)\n",
    "\n",
    "plt.xlabel('Number of Times EV Cars are Driven')\n",
    "plt.ylabel('Sentiments')\n",
    "\n",
    "plt.show()"
   ]
  },
  {
   "cell_type": "markdown",
   "id": "512e5de6",
   "metadata": {},
   "source": [
    "# Final Observation\n",
    "\n",
    "## In Fig above the frequency of driving EV cars is plotted along the x-axis and, The sentiments is plotted along the y-axis.\n",
    "##### 1) Market segments 1 are located in the attractive quadrant of the segment evaluation plot. Members of these two segments like EVs and recommend others to buy it. These segments need to be retained, and their feedbacks must be considered seriously.\n",
    "##### 2) Market segment 3 and 4 also provides positive sentiments towards EVs but there driving frequency is less. Therfore, There feedbacks are also important and need special attention as well for the betterment in the Electric Vehicle.\n",
    "##### 3)Market segment 2 is located at least attractive position, members in this segment not having positive attitude towards EV, Thus making them unattractive as a potential market segment"
   ]
  },
  {
   "cell_type": "markdown",
   "id": "f7436757",
   "metadata": {},
   "source": [
    "# Interim Conclusion\n",
    "##### 1) Most of the people have Positive Sentiments and Positive Reviews for the Electric Vehicles as they try for once or driving the car since ages\n",
    "##### 2) In segmentation, it is also observed that people are excited to buy after test drive, (This is observed by segment 1, which represent a short drive (look into the driven dictionary in the code)). Segment 1 is observed to be positioned in more attractive quadrant.\n",
    "##### 3) So we can conclude from this segmentation that people will buy EVs if the like the products and its feature with a reasonable range of price\n",
    "##### 4) We also conclude that EV popularity is rising with new cars are incomming with pocket friendly price"
   ]
  },
  {
   "cell_type": "markdown",
   "id": "f299b47a",
   "metadata": {},
   "source": [
    "# ................................................................................................................................."
   ]
  },
  {
   "cell_type": "markdown",
   "id": "e2e9bab7",
   "metadata": {},
   "source": [
    "# Many Analysis Steps done so far we come into some observations as listed below\n",
    "##### 1) Availability of government provided charging infrastructure in india\n",
    "##### 2) Popularity of electric vehicles in various regions in india\n",
    "##### 3) Popularity and difference between different Non-Electric Vehicles on the basis of prices, fuel types and transmission\n",
    "##### 4) Behavior of people and there tendency to change from traditional fuel vehicle to electric vehicle on the basis of there reviews and recommendation provided (Segmentation analysis done for this conclusion to make)"
   ]
  },
  {
   "cell_type": "markdown",
   "id": "9a0197f1",
   "metadata": {},
   "source": [
    "# Now if we need to produce an Electric Vehicle which can compete to the bigger brands in India we need to clear some concepts\n",
    "#### 1) Our upcoming Electric Vehicle should be within budget of the majority of public in india\n",
    "#### 2) Majority of the people likes features as well, we analysed this earlier in segmentation\n",
    "#### 3) Majority of the people wants more fuel economy for good drive range\n",
    "#### 4) Performance is also a amin concern, we observed this when we were comparing petrol and diesel cars\n",
    "\n",
    "## To address this issues, lets create a dataframe of general range of price, Battery Capacity, Drive Range, Power and charging time"
   ]
  },
  {
   "cell_type": "code",
   "execution_count": 34,
   "id": "6c0295a5",
   "metadata": {},
   "outputs": [
    {
     "data": {
      "text/html": [
       "<div>\n",
       "<style scoped>\n",
       "    .dataframe tbody tr th:only-of-type {\n",
       "        vertical-align: middle;\n",
       "    }\n",
       "\n",
       "    .dataframe tbody tr th {\n",
       "        vertical-align: top;\n",
       "    }\n",
       "\n",
       "    .dataframe thead th {\n",
       "        text-align: right;\n",
       "    }\n",
       "</style>\n",
       "<table border=\"1\" class=\"dataframe\">\n",
       "  <thead>\n",
       "    <tr style=\"text-align: right;\">\n",
       "      <th></th>\n",
       "      <th>Car_name</th>\n",
       "      <th>transmission</th>\n",
       "      <th>Car_price(rs)</th>\n",
       "      <th>Battery_Capacity(KwH)</th>\n",
       "      <th>Drive_range(KMs)</th>\n",
       "      <th>Power(Bhp)</th>\n",
       "      <th>Charge_time(Hours)</th>\n",
       "    </tr>\n",
       "  </thead>\n",
       "  <tbody>\n",
       "    <tr>\n",
       "      <th>0</th>\n",
       "      <td>MG Comet EV</td>\n",
       "      <td>Automatic</td>\n",
       "      <td>798000</td>\n",
       "      <td>17.30</td>\n",
       "      <td>230.0</td>\n",
       "      <td>41.42</td>\n",
       "      <td>7.0</td>\n",
       "    </tr>\n",
       "    <tr>\n",
       "      <th>1</th>\n",
       "      <td>Tata Tiago EV</td>\n",
       "      <td>Automatic</td>\n",
       "      <td>1199000</td>\n",
       "      <td>19.20</td>\n",
       "      <td>250.0</td>\n",
       "      <td>60.34</td>\n",
       "      <td>1.0</td>\n",
       "    </tr>\n",
       "    <tr>\n",
       "      <th>2</th>\n",
       "      <td>Tata Tigor EV</td>\n",
       "      <td>Automatic</td>\n",
       "      <td>1375000</td>\n",
       "      <td>26.00</td>\n",
       "      <td>315.0</td>\n",
       "      <td>73.75</td>\n",
       "      <td>7.5</td>\n",
       "    </tr>\n",
       "    <tr>\n",
       "      <th>3</th>\n",
       "      <td>MG ZS EV</td>\n",
       "      <td>Automatic</td>\n",
       "      <td>2740000</td>\n",
       "      <td>50.30</td>\n",
       "      <td>461.0</td>\n",
       "      <td>174.33</td>\n",
       "      <td>9.0</td>\n",
       "    </tr>\n",
       "    <tr>\n",
       "      <th>4</th>\n",
       "      <td>BYD Atto 3</td>\n",
       "      <td>Automatic</td>\n",
       "      <td>3449000</td>\n",
       "      <td>60.48</td>\n",
       "      <td>521.0</td>\n",
       "      <td>201.15</td>\n",
       "      <td>10.0</td>\n",
       "    </tr>\n",
       "  </tbody>\n",
       "</table>\n",
       "</div>"
      ],
      "text/plain": [
       "        Car_name transmission  Car_price(rs)  Battery_Capacity(KwH)  \\\n",
       "0    MG Comet EV    Automatic         798000                  17.30   \n",
       "1  Tata Tiago EV    Automatic        1199000                  19.20   \n",
       "2  Tata Tigor EV    Automatic        1375000                  26.00   \n",
       "3       MG ZS EV    Automatic        2740000                  50.30   \n",
       "4     BYD Atto 3    Automatic        3449000                  60.48   \n",
       "\n",
       "   Drive_range(KMs)  Power(Bhp)  Charge_time(Hours)  \n",
       "0             230.0       41.42                 7.0  \n",
       "1             250.0       60.34                 1.0  \n",
       "2             315.0       73.75                 7.5  \n",
       "3             461.0      174.33                 9.0  \n",
       "4             521.0      201.15                10.0  "
      ]
     },
     "execution_count": 34,
     "metadata": {},
     "output_type": "execute_result"
    }
   ],
   "source": [
    "# New\n",
    "\n",
    "df = pd.read_csv('EV_Cars_India_2023_cleaned.csv')\n",
    "df.head()"
   ]
  },
  {
   "cell_type": "code",
   "execution_count": 35,
   "id": "1002aad1",
   "metadata": {},
   "outputs": [
    {
     "name": "stdout",
     "output_type": "stream",
     "text": [
      "<class 'pandas.core.frame.DataFrame'>\n",
      "RangeIndex: 30 entries, 0 to 29\n",
      "Data columns (total 7 columns):\n",
      " #   Column                 Non-Null Count  Dtype  \n",
      "---  ------                 --------------  -----  \n",
      " 0   Car_name               30 non-null     object \n",
      " 1   transmission           30 non-null     object \n",
      " 2   Car_price(rs)          30 non-null     int64  \n",
      " 3   Battery_Capacity(KwH)  30 non-null     float64\n",
      " 4   Drive_range(KMs)       30 non-null     float64\n",
      " 5   Power(Bhp)             30 non-null     float64\n",
      " 6   Charge_time(Hours)     30 non-null     float64\n",
      "dtypes: float64(4), int64(1), object(2)\n",
      "memory usage: 1.8+ KB\n"
     ]
    }
   ],
   "source": [
    "df.info()"
   ]
  },
  {
   "cell_type": "code",
   "execution_count": 36,
   "id": "1ebcaa17",
   "metadata": {},
   "outputs": [
    {
     "data": {
      "image/png": "[encoded data removed]",
      "text/plain": [
       "<Figure size 1296x1224 with 3 Axes>"
      ]
     },
     "metadata": {},
     "output_type": "display_data"
    }
   ],
   "source": [
    "fig,axes = plt.subplots(3,1,figsize=(18,17))\n",
    "\n",
    "fig.suptitle(\"Relationship of car prices and fuel types and majority people purchase capacity\")\n",
    "fig.subplots_adjust(hspace=0.525, wspace=0.525)\n",
    "\n",
    "axes[0].set_title(\"Car Prices with respect to its Brand\")\n",
    "ax1 = sns.barplot(x = list(df['Car_name']),y = list(df['Car_price(rs)']),data=df,ax=axes[0])\n",
    "ax1.set(xlabel = \"Car Name\",ylabel = \"Prices in Lakhs\")\n",
    "ax1.set_xticklabels(ax1.get_xticklabels(),rotation=90)\n",
    "\n",
    "\n",
    "axes[1].set_title(\"Cars with respect to Battery Capacity\")\n",
    "ax2 = sns.barplot(x = list(df['Car_name']),y = list(df['Battery_Capacity(KwH)']),data=df,ax=axes[1])\n",
    "ax2.set(xlabel = \"Car Name\",ylabel = \"Battery Capacity in KwH\")\n",
    "ax2.set_xticklabels(ax2.get_xticklabels(),rotation=90)\n",
    "\n",
    "\n",
    "axes[2].set_title(\"Cars with respect to Charging Time\")\n",
    "ax3 = sns.barplot(x = list(df['Car_name']),y = list(df['Charge_time(Hours)']),data=df,ax=axes[2])\n",
    "ax3.set(xlabel = \"Car Name\",ylabel = \"Charge Time in Hours\")\n",
    "ax3.set_xticklabels(ax2.get_xticklabels(),rotation=90)\n",
    "\n",
    "plt.show()"
   ]
  },
  {
   "cell_type": "code",
   "execution_count": 37,
   "id": "3618ca8d",
   "metadata": {},
   "outputs": [
    {
     "data": {
      "text/plain": [
       "['Pravaig DEFY',\n",
       " 'Kia EV6',\n",
       " 'Audi e-tron',\n",
       " 'BMW i7',\n",
       " 'Volvo XC40 Recharge',\n",
       " 'Mercedes-Benz EQC',\n",
       " 'BYD Atto 3',\n",
       " 'Porsche Taycan',\n",
       " 'PMV EaS E',\n",
       " 'MG ZS EV',\n",
       " 'BYD E6',\n",
       " 'Tata Nexon EV Max',\n",
       " 'Strom Motors R3',\n",
       " 'Hyundai Kona Electric',\n",
       " 'Audi RS e-tron GT',\n",
       " 'BMW iX',\n",
       " 'Citroen eC3',\n",
       " 'Tata Nexon EV Prime',\n",
       " 'Mercedes-Benz EQB',\n",
       " 'Mahindra XUV400 EV',\n",
       " 'Mahindra E Verito',\n",
       " 'Hyundai IONIQ 5',\n",
       " 'Tata Tigor EV',\n",
       " 'BMW i4',\n",
       " 'Mini Cooper SE']"
      ]
     },
     "execution_count": 37,
     "metadata": {},
     "output_type": "execute_result"
    }
   ],
   "source": [
    "######## Best Car Evaluation\n",
    "\n",
    "price_dict = pd.Series(df['Car_price(rs)'].values,index = df['Car_name']).to_dict()\n",
    "sorted_prices = dict(sorted(price_dict.items(),key=lambda x:x[1]))\n",
    "top_cheap_ev = []\n",
    "lis = list(sorted_prices.keys())\n",
    "for i in range(15):\n",
    "    top_cheap_ev.append(lis[i])\n",
    "    \n",
    "\n",
    "    \n",
    "### get the car which has good less charging time\n",
    "\n",
    "charge_dict = pd.Series(df['Charge_time(Hours)'].values,index = df['Car_name']).to_dict()\n",
    "sorted_prices = dict(sorted(charge_dict.items(),key=lambda x:x[1]))\n",
    "less_charge_time = []\n",
    "lis = list(sorted_prices.keys())\n",
    "for i in range(25):\n",
    "    less_charge_time.append(lis[i])\n",
    "    \n",
    "\n",
    "    \n",
    "## get the car with good battery capacity\n",
    "\n",
    "battery_dict = pd.Series(df['Battery_Capacity(KwH)'].values,index = df['Car_name']).to_dict()\n",
    "sorted_prices = dict(sorted(battery_dict.items(),key=lambda x:x[1],reverse=True))\n",
    "good_battery = []\n",
    "lis = list(sorted_prices.keys())\n",
    "for i in range(25):\n",
    "    good_battery.append(lis[i])\n",
    "    \n",
    "\n",
    "    \n",
    "### get thecars with good drive range\n",
    "drive_dict = pd.Series(df['Drive_range(KMs)'].values,index = df['Car_name']).to_dict()\n",
    "sorted_prices = dict(sorted(drive_dict.items(),key=lambda x:x[1],reverse=True))\n",
    "good_drive_range = []\n",
    "lis = list(sorted_prices.keys())\n",
    "for i in range(25):\n",
    "    good_drive_range.append(lis[i])\n",
    "    \n",
    "good_drive_range # Top cars with good battery capacity"
   ]
  },
  {
   "cell_type": "code",
   "execution_count": 38,
   "id": "3007c742",
   "metadata": {},
   "outputs": [
    {
     "data": {
      "text/plain": [
       "['Mahindra E Verito',\n",
       " 'Citroen eC3',\n",
       " 'Tata Tigor EV',\n",
       " 'Tata Nexon EV Prime',\n",
       " 'Mahindra XUV400 EV',\n",
       " 'Hyundai Kona Electric',\n",
       " 'MG ZS EV',\n",
       " 'BYD E6',\n",
       " 'Pravaig DEFY']"
      ]
     },
     "execution_count": 38,
     "metadata": {},
     "output_type": "execute_result"
    }
   ],
   "source": [
    "###  get top cars with have less priced, good battery capacity, less charging time, good drive range\n",
    "\n",
    "best_cars = []\n",
    "\n",
    "for car in top_cheap_ev:\n",
    "    if car in good_drive_range and car in good_battery and car in less_charge_time:\n",
    "        best_cars.append(car)\n",
    "        \n",
    "best_cars"
   ]
  },
  {
   "cell_type": "code",
   "execution_count": 39,
   "id": "15c84124",
   "metadata": {},
   "outputs": [
    {
     "data": {
      "text/html": [
       "<div>\n",
       "<style scoped>\n",
       "    .dataframe tbody tr th:only-of-type {\n",
       "        vertical-align: middle;\n",
       "    }\n",
       "\n",
       "    .dataframe tbody tr th {\n",
       "        vertical-align: top;\n",
       "    }\n",
       "\n",
       "    .dataframe thead th {\n",
       "        text-align: right;\n",
       "    }\n",
       "</style>\n",
       "<table border=\"1\" class=\"dataframe\">\n",
       "  <thead>\n",
       "    <tr style=\"text-align: right;\">\n",
       "      <th></th>\n",
       "      <th>Car_name</th>\n",
       "      <th>transmission</th>\n",
       "      <th>Car_price(rs)</th>\n",
       "      <th>Battery_Capacity(KwH)</th>\n",
       "      <th>Drive_range(KMs)</th>\n",
       "      <th>Power(Bhp)</th>\n",
       "      <th>Charge_time(Hours)</th>\n",
       "    </tr>\n",
       "  </thead>\n",
       "  <tbody>\n",
       "    <tr>\n",
       "      <th>0</th>\n",
       "      <td>Mahindra E Verito</td>\n",
       "      <td>Automatic</td>\n",
       "      <td>946000</td>\n",
       "      <td>34.5</td>\n",
       "      <td>375.0</td>\n",
       "      <td>95.00</td>\n",
       "      <td>8.00</td>\n",
       "    </tr>\n",
       "    <tr>\n",
       "      <th>1</th>\n",
       "      <td>Citroen eC3</td>\n",
       "      <td>Automatic</td>\n",
       "      <td>1276000</td>\n",
       "      <td>29.2</td>\n",
       "      <td>425.0</td>\n",
       "      <td>321.84</td>\n",
       "      <td>7.25</td>\n",
       "    </tr>\n",
       "    <tr>\n",
       "      <th>2</th>\n",
       "      <td>Tata Tigor EV</td>\n",
       "      <td>Automatic</td>\n",
       "      <td>1375000</td>\n",
       "      <td>26.0</td>\n",
       "      <td>315.0</td>\n",
       "      <td>73.75</td>\n",
       "      <td>7.50</td>\n",
       "    </tr>\n",
       "    <tr>\n",
       "      <th>3</th>\n",
       "      <td>Tata Nexon EV Prime</td>\n",
       "      <td>Automatic</td>\n",
       "      <td>1719000</td>\n",
       "      <td>71.7</td>\n",
       "      <td>415.0</td>\n",
       "      <td>93.87</td>\n",
       "      <td>1.50</td>\n",
       "    </tr>\n",
       "    <tr>\n",
       "      <th>4</th>\n",
       "      <td>Mahindra XUV400 EV</td>\n",
       "      <td>Automatic</td>\n",
       "      <td>1898999</td>\n",
       "      <td>34.5</td>\n",
       "      <td>375.0</td>\n",
       "      <td>148.00</td>\n",
       "      <td>8.00</td>\n",
       "    </tr>\n",
       "    <tr>\n",
       "      <th>5</th>\n",
       "      <td>Hyundai Kona Electric</td>\n",
       "      <td>Automatic</td>\n",
       "      <td>2403000</td>\n",
       "      <td>39.2</td>\n",
       "      <td>452.0</td>\n",
       "      <td>134.10</td>\n",
       "      <td>6.16</td>\n",
       "    </tr>\n",
       "    <tr>\n",
       "      <th>6</th>\n",
       "      <td>MG ZS EV</td>\n",
       "      <td>Automatic</td>\n",
       "      <td>2740000</td>\n",
       "      <td>50.3</td>\n",
       "      <td>461.0</td>\n",
       "      <td>174.33</td>\n",
       "      <td>9.00</td>\n",
       "    </tr>\n",
       "    <tr>\n",
       "      <th>7</th>\n",
       "      <td>BYD E6</td>\n",
       "      <td>Automatic</td>\n",
       "      <td>2915000</td>\n",
       "      <td>50.3</td>\n",
       "      <td>461.0</td>\n",
       "      <td>174.33</td>\n",
       "      <td>9.00</td>\n",
       "    </tr>\n",
       "    <tr>\n",
       "      <th>8</th>\n",
       "      <td>Pravaig DEFY</td>\n",
       "      <td>Automatic</td>\n",
       "      <td>3950000</td>\n",
       "      <td>107.8</td>\n",
       "      <td>857.0</td>\n",
       "      <td>516.29</td>\n",
       "      <td>8.00</td>\n",
       "    </tr>\n",
       "  </tbody>\n",
       "</table>\n",
       "</div>"
      ],
      "text/plain": [
       "                Car_name transmission  Car_price(rs)  Battery_Capacity(KwH)  \\\n",
       "0      Mahindra E Verito    Automatic         946000                   34.5   \n",
       "1            Citroen eC3    Automatic        1276000                   29.2   \n",
       "2          Tata Tigor EV    Automatic        1375000                   26.0   \n",
       "3    Tata Nexon EV Prime    Automatic        1719000                   71.7   \n",
       "4     Mahindra XUV400 EV    Automatic        1898999                   34.5   \n",
       "5  Hyundai Kona Electric    Automatic        2403000                   39.2   \n",
       "6               MG ZS EV    Automatic        2740000                   50.3   \n",
       "7                 BYD E6    Automatic        2915000                   50.3   \n",
       "8           Pravaig DEFY    Automatic        3950000                  107.8   \n",
       "\n",
       "   Drive_range(KMs)  Power(Bhp)  Charge_time(Hours)  \n",
       "0             375.0       95.00                8.00  \n",
       "1             425.0      321.84                7.25  \n",
       "2             315.0       73.75                7.50  \n",
       "3             415.0       93.87                1.50  \n",
       "4             375.0      148.00                8.00  \n",
       "5             452.0      134.10                6.16  \n",
       "6             461.0      174.33                9.00  \n",
       "7             461.0      174.33                9.00  \n",
       "8             857.0      516.29                8.00  "
      ]
     },
     "execution_count": 39,
     "metadata": {},
     "output_type": "execute_result"
    }
   ],
   "source": [
    "###################### The Below data frame has the best cars with respect to price, battery, brand, charge time and range\n",
    "indexes = []\n",
    "for car in best_cars:\n",
    "    i = np.where(df['Car_name'] == car)\n",
    "    indexes.append(i[0][0])\n",
    "\n",
    "new_frame = pd.DataFrame()\n",
    "for index in indexes:\n",
    "    new_frame = new_frame.append(df.iloc[index],ignore_index=True)\n",
    "    \n",
    "new_frame"
   ]
  },
  {
   "cell_type": "code",
   "execution_count": 40,
   "id": "f0fe1b14",
   "metadata": {},
   "outputs": [
    {
     "data": {
      "text/html": [
       "<div>\n",
       "<style scoped>\n",
       "    .dataframe tbody tr th:only-of-type {\n",
       "        vertical-align: middle;\n",
       "    }\n",
       "\n",
       "    .dataframe tbody tr th {\n",
       "        vertical-align: top;\n",
       "    }\n",
       "\n",
       "    .dataframe thead th {\n",
       "        text-align: right;\n",
       "    }\n",
       "</style>\n",
       "<table border=\"1\" class=\"dataframe\">\n",
       "  <thead>\n",
       "    <tr style=\"text-align: right;\">\n",
       "      <th></th>\n",
       "      <th>Ranges</th>\n",
       "    </tr>\n",
       "  </thead>\n",
       "  <tbody>\n",
       "    <tr>\n",
       "      <th>Price_Range</th>\n",
       "      <td>946000 Lakhs - 3950000 Lakhs</td>\n",
       "    </tr>\n",
       "    <tr>\n",
       "      <th>Battery_Capacity</th>\n",
       "      <td>26.0 KwH - 107.8 KwH</td>\n",
       "    </tr>\n",
       "    <tr>\n",
       "      <th>Driving_Range</th>\n",
       "      <td>315.0 KMs - 857.0 KMs</td>\n",
       "    </tr>\n",
       "    <tr>\n",
       "      <th>Power_Range</th>\n",
       "      <td>73.75 BHP - 516.29 BHP</td>\n",
       "    </tr>\n",
       "    <tr>\n",
       "      <th>Charging_Time_Range</th>\n",
       "      <td>1.5 Hours - 9.0 Hours</td>\n",
       "    </tr>\n",
       "  </tbody>\n",
       "</table>\n",
       "</div>"
      ],
      "text/plain": [
       "                                           Ranges\n",
       "Price_Range          946000 Lakhs - 3950000 Lakhs\n",
       "Battery_Capacity             26.0 KwH - 107.8 KwH\n",
       "Driving_Range               315.0 KMs - 857.0 KMs\n",
       "Power_Range                73.75 BHP - 516.29 BHP\n",
       "Charging_Time_Range         1.5 Hours - 9.0 Hours"
      ]
     },
     "execution_count": 40,
     "metadata": {},
     "output_type": "execute_result"
    }
   ],
   "source": [
    "# Lets get the Best range prices and the best technical detail\n",
    "\n",
    "\n",
    "min_price = min(list(new_frame['Car_price(rs)']))\n",
    "max_price = max(list(new_frame['Car_price(rs)']))\n",
    "min_capacity = min(list(new_frame['Battery_Capacity(KwH)']))\n",
    "max_capacity = max(list(new_frame['Battery_Capacity(KwH)']))\n",
    "min_drive_range = min(list(new_frame['Drive_range(KMs)']))\n",
    "max_drive_range = max(list(new_frame['Drive_range(KMs)']))\n",
    "min_power = min(list(new_frame['Power(Bhp)']))\n",
    "max_power = max(list(new_frame['Power(Bhp)']))\n",
    "min_charge_time = min(list(new_frame['Charge_time(Hours)']))\n",
    "max_charge_time = max(list(new_frame['Charge_time(Hours)']))\n",
    "\n",
    "Best_Range = {\n",
    "    \"Price_Range\":\"{0} Lakhs - {1} Lakhs\".format(min_price,max_price),\n",
    "    \"Battery_Capacity\":\"{0} KwH - {1} KwH\".format(min_capacity,max_capacity),\n",
    "    \"Driving_Range\":\"{0} KMs - {1} KMs\".format(min_drive_range,max_drive_range),\n",
    "    \"Power_Range\":\"{0} BHP - {1} BHP\".format(min_power,max_power),\n",
    "    \"Charging_Time_Range\":\"{0} Hours - {1} Hours\".format(min_charge_time,max_charge_time),\n",
    "}\n",
    "\n",
    "Best_Range = pd.Series(Best_Range).to_frame()\n",
    "Best_Range.rename(columns={0:'Ranges'},inplace=True)\n",
    "Best_Range"
   ]
  },
  {
   "cell_type": "code",
   "execution_count": 41,
   "id": "a08f140d",
   "metadata": {},
   "outputs": [],
   "source": [
    "os.makedirs(os.getcwd(),exist_ok=True)\n",
    "Best_Range.to_csv(os.path.join(\"Best_Range.csv\"),header=False,index=False)"
   ]
  },
  {
   "cell_type": "markdown",
   "id": "a71ccd5e",
   "metadata": {},
   "source": [
    "## Comments\n",
    "#### 1) We comeup with a competitive range of price. our product price range should be within range or more economical if possible\n",
    "#### 2) We defined a range of Kilo-Watt Hour battery capacity.\n",
    "#### 3) The defined batteries should produce significant range of power as defined in the data frame\n",
    "#### 4) We have to see if we can improve more on driving range provided, but our driving range should be at maximum of given range\n",
    "#### 5) Time taken to charge a battery should be within the range"
   ]
  },
  {
   "cell_type": "markdown",
   "id": "b6ece18f",
   "metadata": {},
   "source": [
    "# ................................................................................................................................."
   ]
  },
  {
   "cell_type": "markdown",
   "id": "bf8aff04",
   "metadata": {},
   "source": [
    "# Final Conclusion\n",
    "### Geographic and Demographic analysis \n",
    "##### 1) We analysed that south india region is more technologically advanced with good availability of charging infrastructure and Electric vehicles becoming more popular. Big Brands who already launched their products and have there manufacturing plants in south india. It is possible that we can create space for oue EVs but it will ber very difficult\n",
    "##### 2) North Eastern states have growing popularity specially sikkim, this is a good place for us to create space for our EVs\n",
    "##### 3) Once our EV popularity grows up, we can target to East indian states and central indian states\n",
    "\n",
    "### Psychographic and Behavioral analysis\n",
    "##### 1) From Reviews Dataset from carwale.com, we did a market segmentation on people's reviews on EVs whether they have positve approach towards it. we found that 3 out 4 have positive approach and are likely to buy new EV. Those who have done small test drive are likely to buy. Those who already driving regularly are recommending others to buy it.\n",
    "##### 2) Competitive prices, More features and good performance in EVs are key points to be considered, as in the analysis i come up with the observation of the people more tended to buy low priced and low maintenance cost vehicles\n",
    "\n",
    "# Final Thoughts on Startup Strategy\n",
    "##### 1) In case of E-Bikes we can target some East Indian states like Bihar and West Bengal as the economic condition of majority of people is low so a good competitive E-bike with good amount of features and reasonable price range will be a good choice. Central Indian States like Madhya pradesh will also a good choice to introduce E-Bikes\n",
    "##### 2) In case of E-Cars North-East India and Central India should be the first choice region as they have good popularity of EVs. East indian states would be the second choice after the popularity of the startup improves and we are safe to grow our business.\n",
    "##### 3) North Indian states are not recommended right now because of the analysis results. People are not buying EVs despite having lots of charging infrastructure.\n",
    "##### 4) South indian states should be kept for future as there are already many international brands launched there EVs at competitive prices and tones of features. so South india will not be a safe option right now."
   ]
  },
  {
   "cell_type": "code",
   "execution_count": null,
   "id": "977f4f59",
   "metadata": {},
   "outputs": [],
   "source": []
  }
 ],
 "metadata": {
  "kernelspec": {
   "display_name": "Python 3 (ipykernel)",
   "language": "python",
   "name": "python3"
  },
  "language_info": {
   "codemirror_mode": {
    "name": "ipython",
    "version": 3
   },
   "file_extension": ".py",
   "mimetype": "text/x-python",
   "name": "python",
   "nbconvert_exporter": "python",
   "pygments_lexer": "ipython3",
   "version": "3.9.12"
  }
 },
 "nbformat": 4,
 "nbformat_minor": 5
}
